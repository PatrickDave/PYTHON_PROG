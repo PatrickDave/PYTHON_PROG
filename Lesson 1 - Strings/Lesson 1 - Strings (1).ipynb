{
 "cells": [
  {
   "cell_type": "markdown",
   "id": "89dbe3b7-e4b2-4c8b-9b7d-fc98d76713f0",
   "metadata": {},
   "source": [
    "# Review Question 1:"
   ]
  },
  {
   "cell_type": "code",
   "execution_count": 18,
   "id": "add2719b-0461-4a1d-9fcc-c377c3c40bbe",
   "metadata": {
    "scrolled": true
   },
   "outputs": [
    {
     "name": "stdout",
     "output_type": "stream",
     "text": [
      "Length of the string: 17\n",
      "Concatenated string: PythonProgramming\n",
      "Concatenated with space: Python Programming\n",
      "fox\n"
     ]
    }
   ],
   "source": [
    "#1\n",
    "my_string = \"Hello, Kalibutan!\"\n",
    "print(\"Length of the string:\", len(my_string))\n",
    "\n",
    "\n",
    "#2\n",
    "string1 = \"Python\"\n",
    "string2 = \"Programming\"\n",
    "\n",
    "result = string1 + string2\n",
    "\n",
    "print(\"Concatenated string:\", result)\n",
    "\n",
    "#3\n",
    "string1 = \"Python\"\n",
    "string2 = \"Programming\"\n",
    "\n",
    "\n",
    "result = string1 + \" \" + string2\n",
    "\n",
    "print(\"Concatenated with space:\", result)\n",
    "\n",
    "#4\n",
    "sentence = \"The quick brown fox jumped over the lazy dog. #1234567890!\"\n",
    "\n",
    "print(sentence[16:19])"
   ]
  },
  {
   "cell_type": "markdown",
   "id": "650c4241-0ded-40b4-84cc-91c871183e60",
   "metadata": {},
   "source": [
    "# Review Question 2:"
   ]
  },
  {
   "cell_type": "code",
   "execution_count": 12,
   "id": "f9670d86-f88c-479e-96eb-5323c713ac6c",
   "metadata": {},
   "outputs": [
    {
     "name": "stdout",
     "output_type": "stream",
     "text": [
      "animals\n",
      "badger\n",
      "honey bee\n",
      "honeybadger\n"
     ]
    }
   ],
   "source": [
    "#1\n",
    "words = [\"Animals\", \"Badger\", \"Honey Bee\", \"Honeybadger\"]\n",
    "\n",
    "for w in words:\n",
    "    print(w.lower())"
   ]
  },
  {
   "cell_type": "code",
   "execution_count": 13,
   "id": "7d02fb1d-e7b4-4ee4-8af5-c1bdfab9f704",
   "metadata": {},
   "outputs": [
    {
     "name": "stdout",
     "output_type": "stream",
     "text": [
      "ANIMALS\n",
      "BADGET\n",
      "HONEY BEE\n",
      "HONEYBADGER\n"
     ]
    }
   ],
   "source": [
    "#2\n",
    "words = [\"Animals\", \"Badget\", \"Honey Bee\", \"Honeybadger\"]\n",
    "\n",
    "for w in words:\n",
    "    print(w.upper())"
   ]
  },
  {
   "cell_type": "code",
   "execution_count": 44,
   "id": "05563c65-80f5-4491-988f-4a0e3c8cb805",
   "metadata": {},
   "outputs": [
    {
     "name": "stdout",
     "output_type": "stream",
     "text": [
      "Filet Mignon\n",
      "Brisket\n"
     ]
    }
   ],
   "source": [
    "#3\n",
    "string1 = \" Filet Mignon\"\n",
    "string2 = \"Brisket \"\n",
    "\n",
    "print(string1.strip())\n",
    "print(string2.strip())"
   ]
  },
  {
   "cell_type": "code",
   "execution_count": 16,
   "id": "2fc541f7-0562-4119-aa13-243cb4537170",
   "metadata": {},
   "outputs": [
    {
     "name": "stdout",
     "output_type": "stream",
     "text": [
      "False\n",
      "True\n"
     ]
    }
   ],
   "source": [
    "#4\n",
    "string1 = \"Becomes\"\n",
    "string2 = \"becomes\"\n",
    "\n",
    "print(string1.startswith(\"be\"))\n",
    "print(string2.startswith(\"be\"))"
   ]
  },
  {
   "cell_type": "code",
   "execution_count": 17,
   "id": "cb07f9bc-911f-44c9-801f-40a28ab626cb",
   "metadata": {},
   "outputs": [
    {
     "name": "stdout",
     "output_type": "stream",
     "text": [
      "True\n",
      "True\n"
     ]
    }
   ],
   "source": [
    "#5\n",
    "string1 = \"Becomes\"\n",
    "string2 = \"becomes\"\n",
    "\n",
    "print(string1.lower().startswith(\"be\"))\n",
    "print(string2.lower().startswith(\"be\"))"
   ]
  },
  {
   "cell_type": "markdown",
   "id": "20aa9365-8412-4a9d-b221-2f6369d68a49",
   "metadata": {},
   "source": [
    "# Review Question 3:"
   ]
  },
  {
   "cell_type": "code",
   "execution_count": 19,
   "id": "0431fc34-64fc-4ea4-9397-4dd71ae4cc84",
   "metadata": {},
   "outputs": [
    {
     "name": "stdin",
     "output_type": "stream",
     "text": [
      "Enter something:  I love you\n"
     ]
    },
    {
     "name": "stdout",
     "output_type": "stream",
     "text": [
      "You entered: I love you\n"
     ]
    }
   ],
   "source": [
    "#1\n",
    "user_input = input(\"Enter something: \")\n",
    "\n",
    "print(\"You entered:\", user_input)"
   ]
  },
  {
   "cell_type": "code",
   "execution_count": 24,
   "id": "5aadfd4c-982a-4e32-bb52-b7aa199cce10",
   "metadata": {},
   "outputs": [
    {
     "name": "stdin",
     "output_type": "stream",
     "text": [
      "Enter something:  WHEN WE ARE NO LONGER ABLE TO CHANGE A SITUATION, WE ARE CHALLENGED TO CHANGE OURSELVES.  -VIKTOR FRANKL\n"
     ]
    },
    {
     "name": "stdout",
     "output_type": "stream",
     "text": [
      "Lowercase version: when we are no longer able to change a situation, we are challenged to change ourselves.  -viktor frankl\n"
     ]
    }
   ],
   "source": [
    "#2\n",
    "user_input = input(\"Enter something: \")\n",
    "\n",
    "print(\"Lowercase version:\", user_input.lower())"
   ]
  },
  {
   "cell_type": "code",
   "execution_count": 31,
   "id": "7fb54350-dae4-4fdf-913f-a0ca337b33ff",
   "metadata": {},
   "outputs": [
    {
     "name": "stdin",
     "output_type": "stream",
     "text": [
      "Enter something:  456\n"
     ]
    },
    {
     "name": "stdout",
     "output_type": "stream",
     "text": [
      "Number of characters: 3\n"
     ]
    }
   ],
   "source": [
    "#3\n",
    "user_input = input(\"Enter something: \")\n",
    "\n",
    "print(\"Number of characters:\", len(user_input))"
   ]
  },
  {
   "cell_type": "markdown",
   "id": "fb2dfcf1-bf38-44f2-a242-26cd24d9e35a",
   "metadata": {},
   "source": [
    "# Review Question 4:"
   ]
  },
  {
   "cell_type": "code",
   "execution_count": 32,
   "id": "1a0030c9-a55a-4c39-bf8a-678789eceff8",
   "metadata": {},
   "outputs": [
    {
     "name": "stdin",
     "output_type": "stream",
     "text": [
      "Tell me your name:  Patrick\n"
     ]
    },
    {
     "name": "stdout",
     "output_type": "stream",
     "text": [
      "The first letter of your name is: P\n"
     ]
    }
   ],
   "source": [
    "name = input(\"Tell me your name: \")\n",
    "\n",
    "first_letter = name[0].upper()\n",
    "\n",
    "# Display the result\n",
    "print(\"The first letter of your name is:\", first_letter)"
   ]
  },
  {
   "cell_type": "markdown",
   "id": "f1bb979b-d859-4aaa-9f45-8a35263f8430",
   "metadata": {},
   "source": [
    "# Review Question 5:\n"
   ]
  },
  {
   "cell_type": "code",
   "execution_count": 35,
   "id": "face1675-ad50-4393-a369-30e27a375d5f",
   "metadata": {},
   "outputs": [
    {
     "name": "stdout",
     "output_type": "stream",
     "text": [
      "Result: 100\n"
     ]
    }
   ],
   "source": [
    "#1\n",
    "num_str = \"20\"\n",
    "\n",
    "#convert to integer\n",
    "num_int = int(num_str)\n",
    "\n",
    "result = num_int * 5\n",
    "\n",
    "print(\"Result:\", result)"
   ]
  },
  {
   "cell_type": "code",
   "execution_count": 37,
   "id": "8fe9645a-0015-4e05-807c-66105ac4cf34",
   "metadata": {},
   "outputs": [
    {
     "name": "stdout",
     "output_type": "stream",
     "text": [
      "Result: 10.5\n"
     ]
    }
   ],
   "source": [
    "#2\n",
    "num_str = \"5.25\"\n",
    "\n",
    "#convert to float\n",
    "num_float = float(num_str)\n",
    "\n",
    "result = num_float * 2\n",
    "\n",
    "print(\"Result:\", result)"
   ]
  },
  {
   "cell_type": "code",
   "execution_count": 46,
   "id": "c9c635b4-7050-4712-9327-a8bff3e4a42c",
   "metadata": {},
   "outputs": [
    {
     "name": "stdout",
     "output_type": "stream",
     "text": [
      "Age: 19\n"
     ]
    }
   ],
   "source": [
    "#3\n",
    "my_string = \"Age:\"\n",
    "my_int = 19\n",
    "\n",
    "#convert int to str\n",
    "print(my_string + \" \" + str(my_int))"
   ]
  },
  {
   "cell_type": "code",
   "execution_count": 49,
   "id": "45b496ee-7b30-429b-850a-08bdb550ae60",
   "metadata": {},
   "outputs": [
    {
     "name": "stdin",
     "output_type": "stream",
     "text": [
      "Enter fist number:  5\n",
      "Enter second number:  5\n"
     ]
    },
    {
     "name": "stdout",
     "output_type": "stream",
     "text": [
      "Result: 25\n"
     ]
    }
   ],
   "source": [
    "#4\n",
    "num1 = input(\"Enter fist number: \")\n",
    "num2 = input(\"Enter second number: \")\n",
    "\n",
    "#convert to int\n",
    "num1 = int(num1)\n",
    "num2 = int(num2)\n",
    "\n",
    "print(\"Result:\", num1 * num2)"
   ]
  },
  {
   "cell_type": "markdown",
   "id": "1db1f223-c8cb-44e6-b3c5-e4b3c1f87700",
   "metadata": {},
   "source": [
    "# Review Question 6:\n"
   ]
  },
  {
   "cell_type": "code",
   "execution_count": 52,
   "id": "45661133-17df-4d07-83b5-7dd8de565c0b",
   "metadata": {},
   "outputs": [
    {
     "name": "stdout",
     "output_type": "stream",
     "text": [
      "-1\n"
     ]
    }
   ],
   "source": [
    "#1. In one line of code, display the result of trying to .find() the substring \"a\" in the string \"AAA\".\n",
    "\n",
    "print(\"AAA\".find(\"a\"))"
   ]
  },
  {
   "cell_type": "code",
   "execution_count": 54,
   "id": "6d22e83b-1a2d-4a3b-96a8-45e67468d029",
   "metadata": {},
   "outputs": [
    {
     "data": {
      "text/plain": [
       "'Somebody yaid yomething to Samantha.'"
      ]
     },
     "execution_count": 54,
     "metadata": {},
     "output_type": "execute_result"
    }
   ],
   "source": [
    "#2. Replace every occurrence of the character \"s\" with \"y” in the string \"Somebody said something to Samantha.\"\n",
    "\n",
    "phrase = \"Somebody said something to Samantha.\"\n",
    "phrase.replace(\"s\", \"y\")"
   ]
  },
  {
   "cell_type": "code",
   "execution_count": 56,
   "id": "b38db2c3-207c-4347-bd8b-94ff6708c4cf",
   "metadata": {},
   "outputs": [
    {
     "name": "stdin",
     "output_type": "stream",
     "text": [
      "Enter some text:  No Smoking Here!\n",
      "Enter a letter to search for:  Smoking\n"
     ]
    },
    {
     "name": "stdout",
     "output_type": "stream",
     "text": [
      "The letter 'Smoking' was found at position 3.\n"
     ]
    }
   ],
   "source": [
    "#3\n",
    "user_text = input(\"Enter some text: \")\n",
    "letter = input(\"Enter a letter to search for: \")\n",
    "\n",
    "position = user_text.find(letter)\n",
    "\n",
    "# Display the result\n",
    "if position != -1:\n",
    "    print(f\"The letter '{letter}' was found at position {position}.\")\n",
    "else:\n",
    "    print(f\"The letter '{letter}' was not found.\")"
   ]
  },
  {
   "cell_type": "markdown",
   "id": "a5797cd3-f3e2-467e-a04e-ccf9ad1b7abe",
   "metadata": {},
   "source": [
    "# Review Question 7:\n"
   ]
  },
  {
   "cell_type": "code",
   "execution_count": 58,
   "id": "a1ce8dd8-8ac5-4a78-8ef6-bf5f9448fdcb",
   "metadata": {},
   "outputs": [
    {
     "name": "stdin",
     "output_type": "stream",
     "text": [
      "Enter some text:  I like to eat eggs and spam\n"
     ]
    },
    {
     "name": "stdout",
     "output_type": "stream",
     "text": [
      "I 1ik3 70 347 3gg5 4nd 5p4m\n"
     ]
    }
   ],
   "source": [
    "phrase = input(\"Enter some text: \")\n",
    "\n",
    "# Convert to lowercase \n",
    "leet_phrase = (\n",
    "    phrase.replace(\"a\", \"4\")\n",
    "        .replace(\"b\", \"8\")\n",
    "        .replace(\"e\", \"3\")\n",
    "        .replace(\"l\", \"1\")\n",
    "        .replace(\"o\", \"0\")\n",
    "        .replace(\"s\", \"5\")\n",
    "        .replace(\"t\", \"7\")\n",
    ")\n",
    "\n",
    "# Display the result\n",
    "print(leet_phrase)\n"
   ]
  },
  {
   "cell_type": "code",
   "execution_count": null,
   "id": "c3844506-61b0-46a5-b54b-445a42fd9b67",
   "metadata": {},
   "outputs": [],
   "source": []
  }
 ],
 "metadata": {
  "kernelspec": {
   "display_name": "Python 3 (ipykernel)",
   "language": "python",
   "name": "python3"
  },
  "language_info": {
   "codemirror_mode": {
    "name": "ipython",
    "version": 3
   },
   "file_extension": ".py",
   "mimetype": "text/x-python",
   "name": "python",
   "nbconvert_exporter": "python",
   "pygments_lexer": "ipython3",
   "version": "3.10.18"
  }
 },
 "nbformat": 4,
 "nbformat_minor": 5
}
