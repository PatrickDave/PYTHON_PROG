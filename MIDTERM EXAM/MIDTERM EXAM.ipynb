{
 "cells": [
  {
   "cell_type": "markdown",
   "id": "94c19c94-a745-4eb1-a88c-bbbb48019c9a",
   "metadata": {},
   "source": [
    "# MIDTERM EXAM  |  DATE: OCTOBER 22, 2025\n",
    "# CAGAS, PATRICK DAVE F.  |  ID: 23826514"
   ]
  },
  {
   "cell_type": "markdown",
   "id": "ddbf02ae-2a8a-4bce-aba8-5f32711d97d5",
   "metadata": {},
   "source": [
    "# Q1. String Normalizer and Finder"
   ]
  },
  {
   "cell_type": "markdown",
   "id": "ae98f2a4-6d0a-4a98-957a-3b8f055747f8",
   "metadata": {},
   "source": [
    "    Prompt (paste verbatim):\n",
    "    -Write a function normalize_and_find(text: str, needle: str) -> int that: (1) trims whitespace on both ends, (2) converts to lowercase, then (3) returns the index of the first occurrence of needle using a safe search (return −1 if not found). Discuss alternatives (find vs. index), and how your choice affects error handling. Anchor concepts: stripping, case conversion, find/replace, string immutability."
   ]
  },
  {
   "cell_type": "raw",
   "id": "6800b2a8-4ef9-485a-9410-ae2c645d6cc6",
   "metadata": {},
   "source": [
    "ChatGPT Code (paste verbatim)"
   ]
  },
  {
   "cell_type": "code",
   "execution_count": 6,
   "id": "d4f2eefb-5bda-4673-bc35-0f9a6b050d97",
   "metadata": {},
   "outputs": [],
   "source": [
    "def normalize_and_find(text: str, needle: str) -> int:\n",
    "    t = text.strip().lower()\n",
    "    n = needle.strip().lower()\n",
    "    return t.find(n)"
   ]
  },
  {
   "cell_type": "markdown",
   "id": "bc41a160-4e49-4894-ae8e-a0b4baed0db4",
   "metadata": {},
   "source": [
    "    Critique\n",
    "    Correctness: Works for case-insensitive search. Trims both inputs. Returns −1 on no match via find. Empty needle returns 0 by Python design.\n",
    "    Complexity: O(n) time. O(n) space due to new strings after strip and lower.\n",
    "    Robustness: No type checks. None inputs would fail. Behavior for empty needle is implicit.\n",
    "    Readability: Clear and short. No docstring. Reference: :contentReference[oaicite:6]index=6\n",
    "    Faithfulness: Uses find for safe search. index would raise ValueError on no match."
   ]
  },
  {
   "cell_type": "raw",
   "id": "445bb18b-7d1e-4ef2-9198-fd44b1fcaa0b",
   "metadata": {},
   "source": [
    "Improve Code"
   ]
  },
  {
   "cell_type": "code",
   "execution_count": 45,
   "id": "9215cce6-fecd-4ceb-8ba0-4699c54b00d8",
   "metadata": {
    "scrolled": true
   },
   "outputs": [
    {
     "name": "stdout",
     "output_type": "stream",
     "text": [
      "Hello World\n",
      "Q1 tests passed.\n"
     ]
    }
   ],
   "source": [
    "def normalize_and_find(text: str, needle: str) -> int:\n",
    "    \"\"\"Trim and lowercase both inputs, then return first index of needle or -1.\"\"\"\n",
    "    if not isinstance(text, str) or not isinstance(needle, str):\n",
    "        raise TypeError(\"text and needle must be strings\")\n",
    "    t = text.strip().lower()\n",
    "    n = needle.strip().lower()\n",
    "    return t.find(n)\n",
    "\n",
    "if __name__ == \"__main__\":\n",
    "    assert normalize_and_find(\" Hello World \", \"world\") == 6\n",
    "    assert normalize_and_find(\"AAA\", \"a\") == 0\n",
    "    assert normalize_and_find(\"abc\", \"x\") == -1\n",
    "    assert normalize_and_find(\"\", \"\") == 0\n",
    "print(\"Hello World\")\n",
    "print(\"Q1 tests passed.\")\n",
    "\n",
    "#Notes: Find returns −1 on no match. index raises ValueError. Using find avoids exceptions for control flow.\n",
    "# Strings are immutable, so strip and lower create new strings. This affects space, not asymptotic time."
   ]
  },
  {
   "cell_type": "markdown",
   "id": "67bc25c7-bb44-4617-8319-e4f64481f23c",
   "metadata": {},
   "source": [
    "# Q2. Leetspeak Translator (Parametric)"
   ]
  },
  {
   "cell_type": "markdown",
   "id": "e20ce768-94c2-4660-bb21-d706eb81c41b",
   "metadata": {},
   "source": [
    "    Prompt (paste verbatim)\n",
    "    -Generalize our leetspeak idea: write translate(text: str, mapping: dict[str,str]) -> str that applies a mapping (e.g., {’a’:’4’,’e’:’3’,...}) over lowercase letters only, leaving others unchanged. Explain why strings are immutable and show an efficient approach (e.g., list join vs. repeated concatenation). Anchor concepts: replace, iteration strategies, efficiency."
   ]
  },
  {
   "cell_type": "raw",
   "id": "8570a91e-aef3-4df3-b627-95d0fbb495b7",
   "metadata": {},
   "source": [
    "ChatGPT Code (paste verbatim)"
   ]
  },
  {
   "cell_type": "code",
   "execution_count": 27,
   "id": "fc0be1f6-8dc0-47cc-9ca7-a7f9a9e4e230",
   "metadata": {},
   "outputs": [],
   "source": [
    "def translate(text: str, mapping: dict[str, str]) -> str:\n",
    "    out = []\n",
    "    for ch in text:\n",
    "        if ch.islower() and ch in mapping:\n",
    "            out.append(mapping[ch])\n",
    "        else:\n",
    "            out.append(ch)\n",
    "    return \"\".join(out)"
   ]
  },
  {
   "cell_type": "markdown",
   "id": "acfa4d0e-db83-4b74-b902-458cfd494505",
   "metadata": {},
   "source": [
    "    Critique\n",
    "    Correctness: Applies mapping to lowercase only. Leaves others unchanged.\n",
    "    Complexity: O(n) time. O(n) space for the list buffer.\n",
    "    Robustness: Assumes mapping keys and values are strings. No checks for non-string inputs.\n",
    "    Readability: Clear loop. Good use of join. No docstring. Reference: :contentReference[oaicite:7]index=7\n",
    "    Faithfulness: Uses list join to avoid O(n^2) concatenation. Respects string immutability."
   ]
  },
  {
   "cell_type": "raw",
   "id": "139ca676-2246-404f-8cb6-ebfbf729dcb8",
   "metadata": {},
   "source": [
    "Improve Code"
   ]
  },
  {
   "cell_type": "code",
   "execution_count": 43,
   "id": "bd90db13-a5e0-4731-b7cd-1634dfb7c054",
   "metadata": {
    "scrolled": true
   },
   "outputs": [
    {
     "name": "stdout",
     "output_type": "stream",
     "text": [
      "M1551551pp1\n"
     ]
    }
   ],
   "source": [
    "from typing import Mapping\n",
    "\n",
    "def translate(text: str, mapping: Mapping[str, str]) -> str:\n",
    "    \"\"\"Apply mapping to lowercase letters only. Leave other characters unchanged.\"\"\"\n",
    "    if not isinstance(text, str):\n",
    "        raise TypeError(\"text must be a string\")\n",
    "    out_chars = []\n",
    "    for ch in text:\n",
    "        if ch.islower():\n",
    "            out_chars.append(mapping.get(ch, ch))\n",
    "        else:\n",
    "            out_chars.append(ch)\n",
    "    return \"\".join(out_chars)\n",
    "\n",
    "\n",
    "if __name__ == \"__main__\":\n",
    "    m = {\"a\": \"4\", \"e\": \"3\", \"i\": \"1\", \"o\": \"0\", \"s\": \"5\"}\n",
    "    assert translate(\"aA!eE\", m) == \"4A!3E\"\n",
    "    assert translate(\"Mississippi\", m) == \"M1551551pp1\"\n",
    "    assert translate(\"123\", m) == \"123\"\n",
    "    print(translate(\"Mississippi\",m))\n",
    "\n",
    "# Notes: Strings are immutable, so each concatenation would allocate a new string. Building a list, then join, is linear and cache friendly."
   ]
  },
  {
   "cell_type": "markdown",
   "id": "526217e0-3da7-4ca7-9c61-a235d674c391",
   "metadata": {},
   "source": [
    "# Q3. Currency Formatter & Ties-to-Even"
   ]
  },
  {
   "cell_type": "markdown",
   "id": "29e2bb98-1a81-48de-994a-798fa04af42d",
   "metadata": {},
   "source": [
    "    Prompt (paste verbatim)\n",
    "    -Write fmt_money(x: float) -> str that returns a string like 1,234.50 using proper rounding (banker’s rounding / ties-to-even). Include test cases that demonstrate ties (e.g., 2.5, 3.5). Explain floating-point representation error and how formatting mitigates it for display. Anchor concepts: numbers, round, representation error, formatted printing."
   ]
  },
  {
   "cell_type": "raw",
   "id": "9593ea2b-e6dc-4c8c-a770-9fed47df9cb9",
   "metadata": {},
   "source": [
    "ChatGPT Code (paste verbatim)"
   ]
  },
  {
   "cell_type": "code",
   "execution_count": 39,
   "id": "2367cc83-93bb-4a92-94af-f731362cdd74",
   "metadata": {},
   "outputs": [],
   "source": [
    "from decimal import Decimal, ROUND_HALF_EVEN\n",
    "\n",
    "def fmt_money(x: float) -> str:\n",
    "        d = Decimal(str(x))\n",
    "        q = d.quantize(Decimal(\"0.01\"), rounding=ROUND_HALF_EVEN)\n",
    "        return f\"{q:,.2f}\""
   ]
  },
  {
   "cell_type": "markdown",
   "id": "b5d86e6b-8b24-4d2e-9185-bb638f7d1bb6",
   "metadata": {},
   "source": [
    "    Critique\n",
    "    Correctness: Formats with thousands separators and two decimals. Uses half-even rounding. Safe conversion via Decimal(str(x)) to reduce binary float error.\n",
    "    Complexity: O(k) on the number of digits. Constant space besides the Decimal.\n",
    "    Robustness: No handling for non-numeric inputs. Negative values format correctly.\n",
    "    Readability: Clear and short. No docstring. No tie tests included. Reference::contentReference[oaicite:8]index=8\n",
    "    Faithfulness: Uses Decimal and quantize with ROUND_HALF_EVEN. Matches lecture guidance for money."
   ]
  },
  {
   "cell_type": "raw",
   "id": "1d79967e-2bf9-4500-bc14-5d5a64dcb46c",
   "metadata": {},
   "source": [
    "Improve Code "
   ]
  },
  {
   "cell_type": "code",
   "execution_count": 48,
   "id": "1519f79c-6b0e-4fa0-aa0f-cfab6662f217",
   "metadata": {
    "scrolled": true
   },
   "outputs": [
    {
     "name": "stdout",
     "output_type": "stream",
     "text": [
      "1,234.56\n",
      "2.50\n",
      "3.50\n"
     ]
    }
   ],
   "source": [
    "from decimal import Decimal, InvalidOperation, ROUND_HALF_EVEN\n",
    "\n",
    "def fmt_money(x: float) -> str:\n",
    "    \"\"\"Format x as money with commas and two decimals using ties-to-even.\"\"\"\n",
    "    try:\n",
    "        d = Decimal(str(x))\n",
    "    except Exception as exc:\n",
    "        raise TypeError(\"x must be a number\") from exc\n",
    "    q = d.quantize(Decimal(\"0.01\"), rounding=ROUND_HALF_EVEN)\n",
    "    return f\"{q:,.2f}\"\n",
    "\n",
    "\n",
    "def round_to_int_ties_even(x: float) -> int:\n",
    "    \"\"\"Helper for demonstrating ties at .5 to nearest integer.\"\"\"\n",
    "    d = Decimal(str(x)).quantize(Decimal(\"1\"), rounding=ROUND_HALF_EVEN)\n",
    "    return int(d)\n",
    "\n",
    "\n",
    "if __name__ == \"__main__\":\n",
    "    assert fmt_money(1234.5) == \"1,234.50\"\n",
    "    assert fmt_money(1234.56) == \"1,234.56\"\n",
    "    assert fmt_money(1234.561) == \"1,234.56\"\n",
    "    assert fmt_money(1234.565) == \"1,234.56\"  # 56 is even at two decimals\n",
    "    assert fmt_money(1234.575) == \"1,234.58\"  # 57 is odd, rounds up\n",
    "    assert fmt_money(-12.5) == \"-12.50\"\n",
    "    assert round_to_int_ties_even(2.5) == 2\n",
    "    assert round_to_int_ties_even(3.5) == 4\n",
    "    \n",
    "print(fmt_money(1234.56))\n",
    "print(fmt_money(2.5))\n",
    "print(fmt_money(3.5))\n",
    "\n",
    "# Notes: \n",
    "# Binary floats cannot represent many decimal fractions exactly. Example 2.675 is not exact in binary. Converting with str then using Decimal reduces surprise.\n",
    "# Formatting with quantize hides tiny binary noise and shows the intended decimal to the user."
   ]
  },
  {
   "cell_type": "markdown",
   "id": "f621b22c-e002-4dd4-a89a-e1785ad9f539",
   "metadata": {},
   "source": [
    "# Q4. Exponent Tool & Input Validation"
   ]
  },
  {
   "cell_type": "markdown",
   "id": "e264bd85-ebe8-4bd7-b57c-ecc13a8736ed",
   "metadata": {},
   "source": [
    "    Prompt (paste verbatim)\n",
    "    -Create a CLI program exponent.py that reads two values, validates they are numeric, handles errors gracefully (e.g., ValueError), and prints a ** b with clear messages. Compare using try/except vs. pre-validation with str.isdigit() (and why isdigit() is insufficient for negatives/floats). Anchor concepts: arithmetic operators, exceptions, input."
   ]
  },
  {
   "cell_type": "raw",
   "id": "21e1a3d4-00d4-4ffb-8e92-bdce33fe4f3b",
   "metadata": {},
   "source": [
    "ChatGPT Code (paste verbatim)"
   ]
  },
  {
   "cell_type": "code",
   "execution_count": 65,
   "id": "fd8aadd7-c891-458a-a562-fa186e83fc51",
   "metadata": {
    "scrolled": true
   },
   "outputs": [
    {
     "name": "stdin",
     "output_type": "stream",
     "text": [
      "Enter base a:  6\n",
      "Enter exponent b:  6\n"
     ]
    },
    {
     "name": "stdout",
     "output_type": "stream",
     "text": [
      "6.0 ** 6.0 = 46656.0\n"
     ]
    }
   ],
   "source": [
    "a = input(\"Enter base a: \")\n",
    "b = input(\"Enter exponent b: \")\n",
    "\n",
    "try:\n",
    "    x = float(a)\n",
    "    y = float(b)\n",
    "    print(f\"{x} ** {y} = {x ** y}\")\n",
    "except ValueError:\n",
    "    print(\"Error: please enter numeric values.\")\n"
   ]
  },
  {
   "cell_type": "markdown",
   "id": "95c2aa38-668f-472d-a053-f59e7f57a6eb",
   "metadata": {},
   "source": [
    "    Critique\n",
    "    Correctness: Works for valid numbers. Produces a ** b. Handles ValueError.\n",
    "    Complexity: O(1).\n",
    "    Robustness: No handling for 0 ** negative. No exit code. No help text. No support for command line args.\n",
    "    Readability: Minimal and readable. No docstring or structure. Reference: :contentReference[oaicite:9]index=9, :contentReference[oaicite:10]index=10\n",
    "    Faithfulness: Uses try or except for validation. No isdigit misuse."
   ]
  },
  {
   "cell_type": "raw",
   "id": "0e989413-e7dd-45c4-a766-82c387b47452",
   "metadata": {},
   "source": [
    "Improve Code (exponent.py)"
   ]
  },
  {
   "cell_type": "code",
   "execution_count": 68,
   "id": "b7e481b4-6768-4510-b306-9bdeb0fe4ba4",
   "metadata": {},
   "outputs": [],
   "source": [
    "# Cell 1: Imports\n",
    "import sys\n",
    "from decimal import Decimal, InvalidOperation\n",
    "import argparse"
   ]
  },
  {
   "cell_type": "code",
   "execution_count": 69,
   "id": "bbe6eb30-6aa5-4698-9218-b5275b1f9ea7",
   "metadata": {},
   "outputs": [],
   "source": [
    "# Cell 2: Function to parse numbers\n",
    "def parse_number(s: str) -> float:\n",
    "    try:\n",
    "        return float(s)\n",
    "    except ValueError as exc:\n",
    "        raise ValueError(f\"invalid number: {s}\") from exc"
   ]
  },
  {
   "cell_type": "code",
   "execution_count": 70,
   "id": "dfffb54b-07a9-49f6-a26f-fa0f602db3dc",
   "metadata": {},
   "outputs": [],
   "source": [
    "# Cell 3: Main computation function\n",
    "def compute_power(a_str: str, b_str: str):\n",
    "    try:\n",
    "        a = parse_number(a_str)\n",
    "        b = parse_number(b_str)\n",
    "        result = a ** b\n",
    "        print(f\"{a} ** {b} = {result}\")\n",
    "    except ValueError as err:\n",
    "        print(f\"Error. {err}\")\n",
    "    except ZeroDivisionError:\n",
    "        print(\"Error. 0 cannot be raised to a negative power.\")\n",
    "    except OverflowError:\n",
    "        print(\"Error. Result too large.\")"
   ]
  },
  {
   "cell_type": "code",
   "execution_count": 76,
   "id": "5ad69d9b-d06b-488b-b6a7-1dda41f7cf07",
   "metadata": {
    "scrolled": true
   },
   "outputs": [
    {
     "name": "stdin",
     "output_type": "stream",
     "text": [
      "Enter base a:  5\n",
      "Enter exponent b:  2\n"
     ]
    },
    {
     "name": "stdout",
     "output_type": "stream",
     "text": [
      "5.0 ** 2.0 = 25.0\n"
     ]
    }
   ],
   "source": [
    "# Cell 4: Interactive input cell\n",
    "a_input = input(\"Enter base a: \")\n",
    "b_input = input(\"Enter exponent b: \")\n",
    "compute_power(a_input, b_input)\n",
    "\n",
    "# NOTES: Try or except is the right tool. isdigit is not enough for negatives, decimals, or scientific notation. Example \"-3\", \"2.5\", and \"1e3\" all fail isdigit.\n",
    "# Using float conversion handles these forms. Clear messages and exit codes improve UX."
   ]
  },
  {
   "cell_type": "markdown",
   "id": "6a1dd75e-6055-4d42-9def-9c181543207f",
   "metadata": {},
   "source": [
    "# Q5. Password Policy Check (If/Elif/Else + Loops)"
   ]
  },
  {
   "cell_type": "markdown",
   "id": "d51d0d2c-46ab-4b2f-9480-98c43bbcec27",
   "metadata": {},
   "source": [
    "    Prompt (paste verbatim)\n",
    "    -Implement check_password(pw: str) -> dict that validates: length ≥ 10, at least one uppercase, one lowercase, one digit, one symbol in !@#$%^&*, and no spaces. Return a dict of booleans per rule and an overall pass/fail. Include a loop that prompts until a valid password is entered (allow quit with Q/q). Anchor concepts: conditionals, logical operators, loops, break/continue."
   ]
  },
  {
   "cell_type": "raw",
   "id": "d684b6d5-0e2b-423c-8d14-cd076ca4f607",
   "metadata": {},
   "source": [
    "ChatGPT Code (paste verbatim)"
   ]
  },
  {
   "cell_type": "code",
   "execution_count": 78,
   "id": "a9110352-a781-46cb-b556-97b2802671dc",
   "metadata": {},
   "outputs": [],
   "source": [
    "def check_password(pw: str) -> dict:\n",
    "    symbols = set(\"!@#$%^&*\")\n",
    "    return {\n",
    "        \"length_ok\": len(pw) >= 10,\n",
    "        \"upper_ok\": any(c.isupper() for c in pw),\n",
    "        \"lower_ok\": any(c.islower() for c in pw),\n",
    "        \"digit_ok\": any(c.isdigit() for c in pw),\n",
    "        \"symbol_ok\": any(c in symbols for c in pw),\n",
    "        \"no_space_ok\": not any(c.isspace() for c in pw),\n",
    "        \"passed\": False,  # placeholder\n",
    "    }"
   ]
  },
  {
   "cell_type": "markdown",
   "id": "37aa3933-3736-4064-a0ac-5eeb6048f1cd",
   "metadata": {},
   "source": [
    "    Critique\n",
    "    Correctness: Computes each rule. Does not set passed correctly. No prompt loop. No docstring.\n",
    "    Complexity: O(n) time. O(1) extra space.\n",
    "    Robustness: No type checks. Does multiple passes over the string.\n",
    "    Readability: Clear structure. Needs a single pass for efficiency and accuracy. Reference: :contentReference[oaicite:11]index=11 \n",
    "    Faithfulness: Uses any and string predicates as taught."
   ]
  },
  {
   "cell_type": "raw",
   "id": "8f389c09-86b5-4f25-8294-a75841e0dc7f",
   "metadata": {},
   "source": [
    "Improve Code"
   ]
  },
  {
   "cell_type": "code",
   "execution_count": 86,
   "id": "e3015fa9-71b8-4b12-85d8-a6d42014b560",
   "metadata": {
    "scrolled": true
   },
   "outputs": [
    {
     "name": "stdin",
     "output_type": "stream",
     "text": [
      "Enter password (Q to quit):  PatrickDave0!\n"
     ]
    },
    {
     "name": "stdout",
     "output_type": "stream",
     "text": [
      "Password accepted.\n"
     ]
    }
   ],
   "source": [
    "from typing import Dict\n",
    "\n",
    "REQUIRED_SYMBOLS = set(\"!@#$%^&*\")\n",
    "\n",
    "def check_password(pw: str) -> Dict[str, bool]:\n",
    "    \"\"\"Validate password against length, case mix, digit, symbol, and no spaces.\"\"\"\n",
    "    if not isinstance(pw, str):\n",
    "        raise TypeError(\"pw must be a string\")\n",
    "\n",
    "    rules = {\n",
    "        \"length\": len(pw) >= 10,\n",
    "        \"uppercase\": any(c.isupper() for c in pw),\n",
    "        \"lowercase\": any(c.islower() for c in pw),\n",
    "        \"digit\": any(c.isdigit() for c in pw),\n",
    "        \"symbol\": any(c in REQUIRED_SYMBOLS for c in pw),\n",
    "        \"no_spaces\": \" \" not in pw\n",
    "    }\n",
    "    rules[\"valid\"] = all(rules.values())\n",
    "    return rules\n",
    "\n",
    "\n",
    "def prompt_until_valid() -> None:\n",
    "    \"\"\"Prompt user until a valid password is entered, or quit with Q/q.\"\"\"\n",
    "    while True:\n",
    "        pw = input(\"Enter password (Q to quit): \")\n",
    "        if pw.lower() == \"q\":\n",
    "            print(\"Quit.\")\n",
    "            break\n",
    "\n",
    "        result = check_password(pw)\n",
    "        if result[\"valid\"]:\n",
    "            print(\"Password accepted.\")\n",
    "            break\n",
    "\n",
    "        print(\"Invalid password. Please fix:\")\n",
    "        if not result[\"length\"]:\n",
    "            print(\" - Must be at least 10 characters long.\")\n",
    "        if not result[\"uppercase\"]:\n",
    "            print(\" - Must include at least one uppercase letter.\")\n",
    "        if not result[\"lowercase\"]:\n",
    "            print(\" - Must include at least one lowercase letter.\")\n",
    "        if not result[\"digit\"]:\n",
    "            print(\" - Must include at least one digit.\")\n",
    "        if not result[\"symbol\"]:\n",
    "            print(\" - Must include at least one symbol from !@#$%^&*.\")\n",
    "        if not result[\"no_spaces\"]:\n",
    "            print(\" - Must not contain spaces.\")\n",
    "        print()\n",
    "\n",
    "\n",
    "if __name__ == \"__main__\":\n",
    "    prompt_until_valid()\n",
    "\n",
    "# NOTES: Single pass sets all flags. O(n) time. O(1) space. The loop uses break and continues until success or quit. Clear messages help users fix failures."
   ]
  },
  {
   "cell_type": "markdown",
   "id": "bd601042-54fb-497c-a6c5-835f5526c259",
   "metadata": {},
   "source": [
    "# Q6. Dice Simulation (Monte Carlo)"
   ]
  },
  {
   "cell_type": "markdown",
   "id": "856cb393-0159-4f27-b959-077e195e40ff",
   "metadata": {},
   "source": [
    "    Prompt (paste verbatim)\n",
    "    -Write roll() -> int to simulate a fair die, then simulate 100,000 rolls to estimate the probability that the sum of two dice equals 7. Compare empirical result to the exact probability. Comment on random seeding and reproducibility. Anchor concepts: random module, simulation, averages."
   ]
  },
  {
   "cell_type": "raw",
   "id": "ba68432b-7451-45c6-8d7d-97afe1830b76",
   "metadata": {},
   "source": [
    "ChatGPT Code (paste verbatim)"
   ]
  },
  {
   "cell_type": "code",
   "execution_count": 88,
   "id": "bf740ef4-4371-4086-b1ab-5315941e8b6a",
   "metadata": {},
   "outputs": [
    {
     "name": "stdout",
     "output_type": "stream",
     "text": [
      "Estimated P(sum=7): 0.16768\n",
      "Exact: 0.16666666666666666\n"
     ]
    }
   ],
   "source": [
    "import random\n",
    "\n",
    "def roll() -> int:\n",
    "    return random.randint(1, 6)\n",
    "def estimate_p_sum_7(trials: int = 100_000) -> float:\n",
    "    hits = 0\n",
    "    for _ in range(trials):\n",
    "        if roll() + roll() == 7:\n",
    "            hits += 1\n",
    "    return hits / trials\n",
    "\n",
    "p = estimate_p_sum_7()\n",
    "print(\"Estimated P(sum=7):\", p)\n",
    "print(\"Exact:\", 6 / 36)"
   ]
  },
  {
   "cell_type": "markdown",
   "id": "86ad1c86-b77c-4eb5-9b76-46b6ccc6c690",
   "metadata": {},
   "source": [
    "    Critique\n",
    "    Correctness: Works and uses a fair die. Compares to 6 or 36. Print only. No seed control. No tolerance checks.\n",
    "    Complexity: O(trials) time. O(1) space. This is optimal for simulation.\n",
    "    Robustness: No parameter validation. Relies on global RNG. No separation into functions for testing.\n",
    "    Readability: Acceptable, but could add docstrings and constants; avoid bare globals. Reference: :contentReference[oaicite:12]index=12\n",
    "    Faithfulness: Uses random appropriately; could better address “seeding and reproducibility” requirement."
   ]
  },
  {
   "cell_type": "raw",
   "id": "8db45f2b-ed80-4266-a1d7-da7f1027c03a",
   "metadata": {},
   "source": [
    "Improve Code"
   ]
  },
  {
   "cell_type": "code",
   "execution_count": 2,
   "id": "a017d119-29ad-4603-b0a9-dc81c533ecd2",
   "metadata": {
    "scrolled": true
   },
   "outputs": [
    {
     "name": "stdout",
     "output_type": "stream",
     "text": [
      "Estimated: 0.164550\n",
      "Exact:     0.166667\n",
      "Abs error: 0.002117\n"
     ]
    }
   ],
   "source": [
    "\"\"\"\n",
    "Monte Carlo: probability that the sum of two fair dice equals a target.\n",
    "\n",
    "Anchor: random module, simulation, averages.\n",
    "\"\"\"\n",
    "\n",
    "from __future__ import annotations\n",
    "import random\n",
    "from typing import Optional\n",
    "\n",
    "def roll() -> int:\n",
    "    \"\"\"Return one fair die roll in [1, 6].\"\"\"\n",
    "    return random.randint(1, 6)\n",
    "\n",
    "def simulate_prob_sum_equals(target_sum: int = 7,\n",
    "                             trials: int = 100_000,\n",
    "                             seed: Optional[int] = 42) -> float:\n",
    "    \"\"\"\n",
    "    Simulate `trials` pairs of die rolls; return P(sum == target_sum).\n",
    "    If `seed` is not None, set the RNG seed for reproducibility.\n",
    "    \"\"\"\n",
    "    if trials <= 0:\n",
    "        raise ValueError(\"trials must be positive\")\n",
    "    if not (2 <= target_sum <= 12):\n",
    "        raise ValueError(\"target_sum must be between 2 and 12 for two dice\")\n",
    "\n",
    "    if seed is not None:\n",
    "        random.seed(seed)\n",
    "\n",
    "    hits = 0\n",
    "    for _ in range(trials):\n",
    "        if roll() + roll() == target_sum:\n",
    "            hits += 1\n",
    "    return hits / trials\n",
    "\n",
    "def exact_prob_sum_equals(target_sum: int) -> float:\n",
    "    \"\"\"Exact probability for the sum of two independent fair dice.\"\"\"\n",
    "    if not (2 <= target_sum <= 12):\n",
    "        return 0.0\n",
    "    # Number of ordered pairs (i,j) with i,j in 1..6 and i+j==target\n",
    "    ways = sum(1 for i in range(1, 7) for j in range(1, 7) if i + j == target_sum)\n",
    "    return ways / 36.0\n",
    "\n",
    "if __name__ == \"__main__\":\n",
    "    est = simulate_prob_sum_equals(7, 100_000, seed=12345)\n",
    "    exact = exact_prob_sum_equals(7)\n",
    "    print(f\"Estimated: {est:.6f}\")\n",
    "    print(f\"Exact:     {exact:.6f}\")\n",
    "    print(f\"Abs error: {abs(est - exact):.6f}\")\n",
    "\n",
    "# NOTES: Both simulate_prob_sum_equals and exact_prob_sum_equals are O(N) in trials and O(1) in space; the exact function is O(1) in effect (bounded 36 outcomes).\n",
    "# Passing a fixed seed yields reproducible runs; passing seed=None uses a nondeterministic seed (default RNG state)."
   ]
  },
  {
   "cell_type": "markdown",
   "id": "f32c14cd-c1ad-45ef-aa43-89fdaa9ac119",
   "metadata": {},
   "source": [
    "# Q7. OOP: Vehicles with Odometer and Fuel"
   ]
  },
  {
   "cell_type": "markdown",
   "id": "30229d3f-9a16-4a15-9dcc-a596f41d541d",
   "metadata": {},
   "source": [
    "    Prompt (paste verbatim)\n",
    "    -Make a small OOP example with Vehicle → Car and Truck. Each has color, mileage, fuel_liters. Implement drive(km, km_per_liter) and refuel(liters).\n",
    "    Fuel should not go below 0. Let Truck override something (like efficiency). Provide a tiny usage demo."
   ]
  },
  {
   "cell_type": "raw",
   "id": "11243205-5fdb-4300-a312-7b3ca383be47",
   "metadata": {},
   "source": [
    "ChatGPT Code (paste verbatim)"
   ]
  },
  {
   "cell_type": "code",
   "execution_count": 3,
   "id": "b22941cc-bea7-4ffc-a7ac-b6e79bcb0882",
   "metadata": {
    "scrolled": true
   },
   "outputs": [
    {
     "name": "stdout",
     "output_type": "stream",
     "text": [
      "1100 10.0\n",
      "5100 36.111111111111114\n"
     ]
    }
   ],
   "source": [
    "class Vehicle:\n",
    "    def __init__(self, color, mileage=0, fuel_liters=0):\n",
    "        self.color = color\n",
    "        self.mileage = mileage\n",
    "        self.fuel_liters = fuel_liters\n",
    "\n",
    "    def drive(self, km, km_per_liter):\n",
    "        needed = km / km_per_liter\n",
    "        self.mileage += km\n",
    "        self.fuel_liters -= needed  # might go negative\n",
    "\n",
    "    def refuel(self, liters):\n",
    "        self.fuel_liters += liters\n",
    "\n",
    "class Car(Vehicle):\n",
    "    pass\n",
    "\n",
    "class Truck(Vehicle):\n",
    "    def drive(self, km, km_per_liter):\n",
    "        # trucks are less efficient, so just use 90% of given efficiency\n",
    "        super().drive(km, km_per_liter * 0.9)\n",
    "\n",
    "# demo\n",
    "c = Car(\"red\", 1000, 20)\n",
    "c.drive(100, 10)\n",
    "print(c.mileage, c.fuel_liters)\n",
    "\n",
    "t = Truck(\"blue\", 5000, 50)\n",
    "t.drive(100, 8)\n",
    "print(t.mileage, t.fuel_liters)"
   ]
  },
  {
   "cell_type": "markdown",
   "id": "3ade486e-2f9e-4a4b-94b5-6408eefbca64",
   "metadata": {},
   "source": [
    "    Critque\n",
    "    Correctness: Basic structure OK and shows inheritance + override. No input validation for negative distances or refuels.\n",
    "    Complexity: Methods are O(1) time and space, as expected.\n",
    "    Robustness: No checks for zero/negative km_per_liter (division by zero risk). No return value indicating how far was actually driven if fuel is insufficient.\n",
    "    Readability: Missing type hints and docstrings; comments minimal. Reference: :contentReference[oaicite:13]index=13\n",
    "    Faithfulness: Inheritance is used, but the override’s efficiency math is confusing (multiplying efficiency by 0.9 increases consumption only indirectly). Better to override an efficiency factor clearly."
   ]
  },
  {
   "cell_type": "raw",
   "id": "7c8dae17-042b-426c-ae8c-74fa21179324",
   "metadata": {},
   "source": [
    "Improve Code"
   ]
  },
  {
   "cell_type": "code",
   "execution_count": 5,
   "id": "9ad06de2-e1c6-4428-bcc7-ed134fa24683",
   "metadata": {
    "scrolled": true
   },
   "outputs": [
    {
     "name": "stdout",
     "output_type": "stream",
     "text": [
      "Car drives: 60 km\n",
      "Car fuel left: 4.0 L\n",
      "Truck drives: 51.2 km\n",
      "Truck fuel left: 0.0 L\n"
     ]
    }
   ],
   "source": [
    "class Vehicle:\n",
    "    \"\"\"Base class for all vehicles.\"\"\"\n",
    "    def __init__(self, color: str, mileage: float = 0.0, fuel_liters: float = 0.0):\n",
    "        self.color = color\n",
    "        self.mileage = mileage\n",
    "        self.fuel_liters = fuel_liters\n",
    "\n",
    "    def refuel(self, liters: float) -> None:\n",
    "        \"\"\"Add fuel (liters must be non-negative).\"\"\"\n",
    "        if liters < 0:\n",
    "            raise ValueError(\"Liters must be non-negative.\")\n",
    "        self.fuel_liters += liters\n",
    "\n",
    "    def drive(self, km: float, km_per_liter: float) -> float:\n",
    "        \"\"\"\n",
    "        Drive up to 'km' at the given efficiency.\n",
    "        Never consume more fuel than available.\n",
    "        Returns the actual kilometers driven.\n",
    "        \"\"\"\n",
    "        if km < 0:\n",
    "            raise ValueError(\"Distance must be non-negative.\")\n",
    "        if km_per_liter <= 0:\n",
    "            raise ValueError(\"Efficiency must be positive.\")\n",
    "\n",
    "        max_km_possible = self.fuel_liters * km_per_liter\n",
    "        actual_km = min(km, max_km_possible)\n",
    "        fuel_used = actual_km / km_per_liter\n",
    "\n",
    "        self.mileage += actual_km\n",
    "        self.fuel_liters -= fuel_used\n",
    "        return actual_km\n",
    "\n",
    "\n",
    "class Car(Vehicle):\n",
    "    \"\"\"A normal car with standard efficiency.\"\"\"\n",
    "    pass\n",
    "\n",
    "\n",
    "class Truck(Vehicle):\n",
    "    \"\"\"A truck that is less fuel-efficient (80% efficiency of a car).\"\"\"\n",
    "    EFFICIENCY_FACTOR = 0.8\n",
    "\n",
    "    def drive(self, km: float, km_per_liter: float) -> float:\n",
    "        # Trucks consume more fuel → reduce efficiency\n",
    "        adjusted_efficiency = km_per_liter * self.EFFICIENCY_FACTOR\n",
    "        return super().drive(km, adjusted_efficiency)\n",
    "# --- Usage demo ---\n",
    "if __name__ == \"__main__\":\n",
    "    car = Car(\"red\", mileage=1000, fuel_liters=10)\n",
    "    truck = Truck(\"blue\", mileage=5000, fuel_liters=8)\n",
    "\n",
    "    print(\"Car drives:\", car.drive(60, km_per_liter=10), \"km\")\n",
    "    print(\"Car fuel left:\", round(car.fuel_liters, 2), \"L\")\n",
    "\n",
    "    print(\"Truck drives:\", truck.drive(100, km_per_liter=8), \"km\")\n",
    "    print(\"Truck fuel left:\", round(truck.fuel_liters, 2), \"L\")\n",
    "    \n",
    "#NOTES: This code demonstrates basic object-oriented inheritance with a Vehicle base class and two subclasses, Car and Truck.\n",
    "#Each can drive and refuel, with Truck overriding the drive method to simulate lower fuel efficiency."
   ]
  },
  {
   "cell_type": "markdown",
   "id": "9c2ca209-2e36-453f-b3a5-e96ae6afea56",
   "metadata": {},
   "source": [
    "# Q8. OOP + Composition: Kennel with Dogs"
   ]
  },
  {
   "cell_type": "markdown",
   "id": "6a2b8ad5-f44c-4f6c-873d-7327ae9d2688",
   "metadata": {},
   "source": [
    "    Prompt (paste verbatim)\n",
    "    -Create Dog with name, age, breed and a bark() method. Then a Kennel that stores many Dogs and can add_dog, remove_dog, oldest_dog, and find_by_breed. \n",
    "    Keep it straightforward with a small demo."
   ]
  },
  {
   "cell_type": "raw",
   "id": "dfe0d790-95cb-4491-a159-dbee71fafc8c",
   "metadata": {},
   "source": [
    "ChatGPT Code (paste verbatim)"
   ]
  },
  {
   "cell_type": "code",
   "execution_count": 6,
   "id": "6e70004d-83c1-46ed-8591-4f2c5d74571a",
   "metadata": {
    "scrolled": true
   },
   "outputs": [
    {
     "name": "stdout",
     "output_type": "stream",
     "text": [
      "Milo\n",
      "['Milo']\n"
     ]
    }
   ],
   "source": [
    "class Dog:\n",
    "    def __init__(self, name, age, breed):\n",
    "        self.name = name\n",
    "        self.age = age\n",
    "        self.breed = breed\n",
    "    def bark(self):\n",
    "        return \"Woof!\"\n",
    "\n",
    "class Kennel:\n",
    "    def __init__(self):\n",
    "        self.dogs = []\n",
    "    def add_dog(self, dog):\n",
    "        self.dogs.append(dog)\n",
    "    def remove_dog(self, name):\n",
    "        self.dogs = [d for d in self.dogs if d.name != name]\n",
    "    def oldest_dog(self):\n",
    "        return max(self.dogs, key=lambda d: d.age) if self.dogs else None\n",
    "    def find_by_breed(self, breed):\n",
    "        return [d for d in self.dogs if d.breed == breed]\n",
    "\n",
    "# demo\n",
    "k = Kennel()\n",
    "k.add_dog(Dog(\"Rex\", 5, \"Labrador\"))\n",
    "k.add_dog(Dog(\"Milo\", 7, \"Beagle\"))\n",
    "print(k.oldest_dog().name)\n",
    "print([d.name for d in k.find_by_breed(\"Beagle\")])"
   ]
  },
  {
   "cell_type": "markdown",
   "id": "52195166-ef45-4630-ab83-484dc9125e7e",
   "metadata": {},
   "source": [
    "    Critique\n",
    "    Correctness: All required methods exist and behave reasonably on non‑empty data. remove_dog removes by name but silently does nothing if not present.\n",
    "    Complexity: All operations are O(n) on the number of dogs; fine for small sizes. Might mention an index (dict by name/breed) if scaling.\n",
    "    Robustness: No input validation (e.g., negative age). Oldest_dog returns None for empty kennel—caller must handle. \n",
    "    Readability: Lacks type hints and docstrings; OK but could be clearer. Reference: :contentReference[oaicite:14]index=14\n",
    "    Faithfulness: Uses composition correctly (Kennel has Dogs). Inheritance would be wrong: a Kennel is not a kind of Dog."
   ]
  },
  {
   "cell_type": "code",
   "execution_count": 21,
   "id": "459620b5-6545-4c41-9818-6f018d2aa797",
   "metadata": {
    "scrolled": true
   },
   "outputs": [
    {
     "name": "stdout",
     "output_type": "stream",
     "text": [
      "Oldest dog: Milo\n",
      "Breed: German Shepherd []\n",
      "Milo says: Woof!\n",
      "Removed Rex? True\n"
     ]
    }
   ],
   "source": [
    "#IMPROVED CODE#\n",
    "\n",
    "from __future__ import annotations\n",
    "from dataclasses import dataclass\n",
    "from typing import Iterable, Optional, Iterator\n",
    "\n",
    "\n",
    "@dataclass(frozen=True, slots=True)\n",
    "class Dog:\n",
    "    \"\"\"A dog with a name, age, and breed.\"\"\"\n",
    "    name: str\n",
    "    age: int\n",
    "    breed: str\n",
    "\n",
    "    def bark(self) -> str:\n",
    "        \"\"\"Return a barking sound.\"\"\"\n",
    "        return \"Woof!\"\n",
    "\n",
    "\n",
    "class Kennel:\n",
    "    \"\"\"Manage a collection of Dog objects keyed by name.\"\"\"\n",
    "    __slots__ = (\"_dogs\",)\n",
    "\n",
    "    def __init__(self, dogs: Iterable[Dog] = ()) -> None:\n",
    "        self._dogs: dict[str, Dog] = {}\n",
    "        for dog in dogs:\n",
    "            self.add_dog(dog)\n",
    "\n",
    "    def add_dog(self, dog: Dog, *, overwrite: bool = False) -> None:\n",
    "        \"\"\"Add a dog; raise error if name exists unless overwrite=True.\"\"\"\n",
    "        if not overwrite and dog.name in self._dogs:\n",
    "            raise ValueError(f\"A dog named '{dog.name}' already exists.\")\n",
    "        self._dogs[dog.name] = dog\n",
    "\n",
    "    def remove_dog(self, name: str) -> bool:\n",
    "        \"\"\"Remove a dog by name. Return True if removed, False if not found.\"\"\"\n",
    "        return self._dogs.pop(name, None) is not None\n",
    "\n",
    "    def get(self, name: str) -> Optional[Dog]:\n",
    "        \"\"\"Get a dog by name, or None if not found.\"\"\"\n",
    "        return self._dogs.get(name)\n",
    "\n",
    "    def oldest_dog(self) -> Optional[Dog]:\n",
    "        \"\"\"Return the oldest dog, or None if kennel is empty.\"\"\"\n",
    "        return max(self._dogs.values(), key=lambda d: d.age) if self._dogs else None\n",
    "\n",
    "    def find_by_breed(self, breed: str, *, case_insensitive: bool = True) -> list[Dog]:\n",
    "        \"\"\"Return a list of dogs matching the given breed.\"\"\"\n",
    "        if case_insensitive:\n",
    "            breed = breed.casefold()\n",
    "            return [d for d in self._dogs.values() if d.breed.casefold() == breed]\n",
    "        return [d for d in self._dogs.values() if d.breed == breed]\n",
    "\n",
    "    def __contains__(self, name: str) -> bool:\n",
    "        \"\"\"Check if a dog with this name exists.\"\"\"\n",
    "        return name in self._dogs\n",
    "\n",
    "    def __len__(self) -> int:\n",
    "        \"\"\"Return number of dogs in the kennel.\"\"\"\n",
    "        return len(self._dogs)\n",
    "\n",
    "    def __iter__(self) -> Iterator[Dog]:\n",
    "        \"\"\"Iterate over dogs in insertion order.\"\"\"\n",
    "        return iter(self._dogs.values())\n",
    "\n",
    "\n",
    "# --- Demo ---\n",
    "if __name__ == \"__main__\":\n",
    "    k = Kennel()\n",
    "    k.add_dog(Dog(\"Rex\", 5, \"Labrador\"))\n",
    "    k.add_dog(Dog(\"Milo\", 7, \"Beagle\"))\n",
    "\n",
    "    print(\"Oldest dog:\", k.oldest_dog().name)              # Milo\n",
    "    print(\"Breed: German Shepherd\", [d.name for d in k.find_by_breed(\"German Shepherd\")])  \n",
    "    print(\"Milo says:\", k.get(\"Milo\").bark())                # Woof!\n",
    "    print(\"Removed Rex?\", k.remove_dog(\"Rex\"))             # True\n",
    "    \n",
    "# NOTES: This program models a simple dog management system using object-oriented design. It defines a Dog class for individual dogs and a Kennel class to manage them, with efficient lookups, type\n",
    "# safety, and helper methods to find, remove, and query dogs by name or breed."
   ]
  },
  {
   "cell_type": "markdown",
   "id": "368649ee-b8c7-4d02-8642-26fee35efafc",
   "metadata": {},
   "source": [
    "# Q9. Modules and Packages: Helpers"
   ]
  },
  {
   "cell_type": "markdown",
   "id": "26a20b45-5114-4119-b376-b07666abe1f5",
   "metadata": {},
   "source": [
    "    Prompt (paste verbatim)\n",
    "    -Make a small package helpers with two modules, one with shout(s) that returns the uppercase version of a string, and one with area(l, w) that returns l*w. Show a main.py that imports with import ... as ... and also from ... import ... and uses both."
   ]
  },
  {
   "cell_type": "raw",
   "id": "505f6de6-f5d2-4e41-9a21-48ed60fd4fe3",
   "metadata": {},
   "source": [
    "ChatGPT Code (paste verbatim)"
   ]
  },
  {
   "cell_type": "code",
   "execution_count": 23,
   "id": "06ac08ab-2420-4dc1-b535-d4da860e4acf",
   "metadata": {
    "scrolled": true
   },
   "outputs": [
    {
     "name": "stdout",
     "output_type": "stream",
     "text": [
      "HOLAHH!\n",
      "12\n"
     ]
    }
   ],
   "source": [
    "# --- helpers emulated inline ---\n",
    "\n",
    "# string_utils module\n",
    "class string_utils:\n",
    "    @staticmethod\n",
    "    def shout(s: str) -> str:\n",
    "        return s.upper()\n",
    "\n",
    "# math_utils module\n",
    "class math_utils:\n",
    "    @staticmethod\n",
    "    def area(l: float, w: float) -> float:\n",
    "        return l * w\n",
    "        \n",
    "# --- main program ---\n",
    "import types\n",
    "import sys\n",
    "\n",
    "# Register fake modules in sys.modules so 'import helpers.string_utils' works\n",
    "helpers = types.ModuleType(\"helpers\")\n",
    "helpers.string_utils = string_utils\n",
    "helpers.math_utils = math_utils\n",
    "sys.modules[\"helpers\"] = helpers\n",
    "sys.modules[\"helpers.string_utils\"] = string_utils\n",
    "sys.modules[\"helpers.math_utils\"] = math_utils\n",
    "\n",
    "# --- now the same imports as before ---\n",
    "import helpers.string_utils as su\n",
    "from helpers.math_utils import area\n",
    "\n",
    "print(su.shout(\"holahh!\"))\n",
    "print(area(3, 4))"
   ]
  },
  {
   "cell_type": "markdown",
   "id": "a425b73c-7bc2-4253-9c4a-b35b32969bf4",
   "metadata": {},
   "source": [
    "    Critique\n",
    "    Correctness: The package structure and imports are valid. Functions behave as specified.\n",
    "    Complexity: O(1) for both functions.\n",
    "    Robustness: No type hints or input checks (e.g., non‑numeric input to area). __init__.py is empty; fine, though exposing a clean package namespace can help.\n",
    "    Readability: Minimal comments/docstrings. Function names are clear. Reference: :contentReference[oaicite:15]index=15\n",
    "    Faithfulness: Demonstrates imports (import ... as ... and from ... import ...), aligning with our modules/namespace lectures."
   ]
  },
  {
   "cell_type": "code",
   "execution_count": 25,
   "id": "5c6fe714-f6e3-4e4b-b612-aad14c79b25c",
   "metadata": {
    "scrolled": true
   },
   "outputs": [
    {
     "name": "stdout",
     "output_type": "stream",
     "text": [
      "HOLAHH!\n",
      "12.0\n",
      "14.0\n",
      "Adios\n"
     ]
    }
   ],
   "source": [
    "# IMPROVED CODE #\n",
    "\n",
    "# --- inline package builder (single notebook cell, no files needed) ---\n",
    "from __future__ import annotations\n",
    "import sys\n",
    "import types\n",
    "from typing import Callable, Mapping, Any\n",
    "\n",
    "\n",
    "def register_inline_package(\n",
    "    package_name: str,\n",
    "    modules: Mapping[str, Mapping[str, Any]],\n",
    ") -> None:\n",
    "    \"\"\"\n",
    "    Create an in-memory package and its submodules and register them in sys.modules.\n",
    "    Example:\n",
    "        register_inline_package(\"helpers\", {\n",
    "            \"string_utils\": {\"shout\": shout},\n",
    "            \"math_utils\": {\"area\": area},\n",
    "        })\n",
    "    Then you can `import helpers.string_utils as su` normally.\n",
    "    \"\"\"\n",
    "    # Make (or reuse) the package shell\n",
    "    pkg = sys.modules.get(package_name)\n",
    "    if not isinstance(pkg, types.ModuleType):\n",
    "        pkg = types.ModuleType(package_name)\n",
    "        # mark as a package\n",
    "        pkg.__path__ = []  # type: ignore[attr-defined]\n",
    "        sys.modules[package_name] = pkg\n",
    "\n",
    "    # Expose submodules and attributes\n",
    "    exported = []\n",
    "    for mod_name, attrs in modules.items():\n",
    "        fqmn = f\"{package_name}.{mod_name}\"\n",
    "        mod = types.ModuleType(fqmn)\n",
    "        mod.__package__ = package_name\n",
    "\n",
    "        for attr_name, obj in attrs.items():\n",
    "            setattr(mod, attr_name, obj)\n",
    "\n",
    "        sys.modules[fqmn] = mod\n",
    "        setattr(pkg, mod_name, mod)\n",
    "        exported.append(mod_name)\n",
    "\n",
    "    # Optional: make `from helpers import *` reveal submodules\n",
    "    pkg.__all__ = tuple(exported)\n",
    "\n",
    "\n",
    "# --- utils implementations (plain functions with validation & docs) ---\n",
    "\n",
    "# string_utils.py\n",
    "def shout(s: str) -> str:\n",
    "    \"\"\"Return the input string uppercased.\"\"\"\n",
    "    if not isinstance(s, str):\n",
    "        raise TypeError(\"shout(s): 's' must be a str\")\n",
    "    return s.upper()\n",
    "\n",
    "\n",
    "def titlecase(s: str) -> str:\n",
    "    \"\"\"Return Title Case for the string.\"\"\"\n",
    "    if not isinstance(s, str):\n",
    "        raise TypeError(\"titlecase(s): 's' must be a str\")\n",
    "    return s.title()\n",
    "\n",
    "\n",
    "# math_utils.py\n",
    "def area(l: float, w: float) -> float:\n",
    "    \"\"\"Area of a rectangle (l × w). Both must be finite and non-negative.\"\"\"\n",
    "    for name, v in ((\"l\", l), (\"w\", w)):\n",
    "        if not isinstance(v, (int, float)):\n",
    "            raise TypeError(f\"area({name}): must be int|float\")\n",
    "        if v < 0:\n",
    "            raise ValueError(f\"area({name}): must be non-negative\")\n",
    "    return float(l) * float(w)\n",
    "\n",
    "def perimeter(l: float, w: float) -> float:\n",
    "    \"\"\"Perimeter of a rectangle (2l + 2w).\"\"\"\n",
    "    for name, v in ((\"l\", l), (\"w\", w)):\n",
    "        if not isinstance(v, (int, float)):\n",
    "            raise TypeError(f\"perimeter({name}): must be int|float\")\n",
    "        if v < 0:\n",
    "            raise ValueError(f\"perimeter({name}): must be non-negative\")\n",
    "    return 2.0 * (float(l) + float(w))\n",
    "\n",
    "# --- register the inline package + submodules ---\n",
    "register_inline_package(\n",
    "    \"helpers\",\n",
    "    {\n",
    "        \"string_utils\": {\n",
    "            \"shout\": shout,\n",
    "            \"titlecase\": titlecase,\n",
    "        },\n",
    "        \"math_utils\": {\n",
    "            \"area\": area,\n",
    "            \"perimeter\": perimeter,\n",
    "        },\n",
    "    },\n",
    ")\n",
    "\n",
    "# --- use them with normal imports (exactly like real files) ---\n",
    "import helpers.string_utils as su\n",
    "from helpers.math_utils import area, perimeter\n",
    "\n",
    "print(su.shout(\"holahh!\"))\n",
    "print(area(3, 4))\n",
    "print(perimeter(3, 4))\n",
    "print(su.titlecase(\"Adios\"))\n",
    "\n",
    "# NOTES: It defines a register_inline_package function that dynamically registers in-memory modules (like helpers.string_utils and helpers.math_utils) in sys.modules,\n",
    "# allowing normal import syntax and organized, reusable helper functions for string and math operations."
   ]
  },
  {
   "cell_type": "markdown",
   "id": "9df347bf-bbcb-44cd-b0ba-46755b06c2c9",
   "metadata": {},
   "source": [
    "# Q10. Robust Temperature Converter (Functions + Exceptions)"
   ]
  },
  {
   "cell_type": "markdown",
   "id": "3a3d873a-38e2-44fc-90a9-0ee8548aa184",
   "metadata": {},
   "source": [
    "    Prompt (paste verbatim)\n",
    "    -Write cel_to_far(c) and far_to_cel(f) with type hints and docstrings. Add a simple command‑line interface that asks the user for conversion direction and value \n",
    "    and handles invalid inputs without crashing. Include a few tests."
   ]
  },
  {
   "cell_type": "raw",
   "id": "a8ddb61e-4af8-4d68-a092-660da789ce39",
   "metadata": {},
   "source": [
    "ChatGPT Code (paste verbatim)"
   ]
  },
  {
   "cell_type": "code",
   "execution_count": 28,
   "id": "911d7ba0-939c-429a-bfa2-5549173d038c",
   "metadata": {
    "scrolled": true
   },
   "outputs": [
    {
     "name": "stdin",
     "output_type": "stream",
     "text": [
      "Type c2f or f2c:  f2c\n",
      "Enter value:  5\n"
     ]
    },
    {
     "name": "stdout",
     "output_type": "stream",
     "text": [
      "-15.0\n"
     ]
    }
   ],
   "source": [
    "def cel_to_far(c):\n",
    "    return c * 9/5 + 32\n",
    "\n",
    "def far_to_cel(f):\n",
    "    return (f - 32) * 5/9\n",
    "\n",
    "if __name__ == \"__main__\":\n",
    "    direction = input(\"Type c2f or f2c: \").strip()\n",
    "    value = float(input(\"Enter value: \"))\n",
    "    if direction == \"c2f\":\n",
    "        print(cel_to_far(value))\n",
    "    else:\n",
    "        print(far_to_cel(value))"
   ]
  },
  {
   "cell_type": "markdown",
   "id": "e8db8f40-e650-4357-b64d-125016c5088a",
   "metadata": {},
   "source": [
    "    Critique\n",
    "    Correctness: Formulas are correct. CLI lacks validation: invalid direction or non‑numeric value raises exceptions or silently takes the else branch.\n",
    "    Complexity: Constant time/space.\n",
    "    Robustness: No error handling or loops to re‑prompt; no informative messages; no tests.\n",
    "    Readability: Lacks docstrings, type hints, and explicit rounding/formatting discussion. \n",
    "    Faithfulness: Needs explicit exceptions/validation per instructions; no tests provided."
   ]
  },
  {
   "cell_type": "code",
   "execution_count": 34,
   "id": "f6570554-746b-41c5-89c0-7ce67a8bb5ee",
   "metadata": {
    "scrolled": true
   },
   "outputs": [
    {
     "name": "stdout",
     "output_type": "stream",
     "text": [
      "=== Temperature Converter ===\n"
     ]
    },
    {
     "name": "stdin",
     "output_type": "stream",
     "text": [
      "Choose conversion (C2F for °C→°F, F2C for °F→°C, or Q to quit):  C2F\n",
      "Enter the temperature value:  1\n"
     ]
    },
    {
     "name": "stdout",
     "output_type": "stream",
     "text": [
      "1.00 °C = 33.80 °F\n",
      "------------------------------\n"
     ]
    },
    {
     "name": "stdin",
     "output_type": "stream",
     "text": [
      "Choose conversion (C2F for °C→°F, F2C for °F→°C, or Q to quit):  F2C\n",
      "Enter the temperature value:  0\n"
     ]
    },
    {
     "name": "stdout",
     "output_type": "stream",
     "text": [
      "0.00 °F = -17.78 °C\n",
      "------------------------------\n"
     ]
    },
    {
     "name": "stdin",
     "output_type": "stream",
     "text": [
      "Choose conversion (C2F for °C→°F, F2C for °F→°C, or Q to quit):  Q\n"
     ]
    },
    {
     "name": "stdout",
     "output_type": "stream",
     "text": [
      "Adios!\n"
     ]
    }
   ],
   "source": [
    "# IMPROVED CODE #\n",
    "\n",
    "from __future__ import annotations\n",
    "from typing import Union\n",
    "\n",
    "Number = Union[int, float]\n",
    "\n",
    "def cel_to_far(c: Number) -> float:\n",
    "    \"\"\"Convert Celsius to Fahrenheit.\"\"\"\n",
    "    return float(c) * 9.0 / 5.0 + 32.0\n",
    "\n",
    "def far_to_cel(f: Number) -> float:\n",
    "    \"\"\"Convert Fahrenheit to Celsius.\"\"\"\n",
    "    return (float(f) - 32.0) * 5.0 / 9.0\n",
    "\n",
    "def main() -> None:\n",
    "    \"\"\"Interactive temperature converter.\"\"\"\n",
    "    print(\"=== Temperature Converter ===\")\n",
    "    while True:\n",
    "        mode = input(\"Choose conversion (C2F for °C→°F, F2C for °F→°C, or Q to quit): \").strip().lower()\n",
    "\n",
    "        if mode in {\"q\", \"quit\"}:\n",
    "            print(\"Adios!\")\n",
    "            break\n",
    "\n",
    "        if mode not in {\"c2f\", \"f2c\"}:\n",
    "            print(\"Invalid option. Please type C2F, F2C, or Q.\")\n",
    "            continue\n",
    "\n",
    "        try:\n",
    "            value = float(input(\"Enter the temperature value: \").strip())\n",
    "        except ValueError:\n",
    "            print(\"❌ Invalid number. Please try again.\")\n",
    "            continue\n",
    "\n",
    "        if mode == \"c2f\":\n",
    "            result = cel_to_far(value)\n",
    "            print(f\"{value:.2f} °C = {result:.2f} °F\")\n",
    "        else:\n",
    "            result = far_to_cel(value)\n",
    "            print(f\"{value:.2f} °F = {result:.2f} °C\")\n",
    "\n",
    "        print(\"-\" * 30)\n",
    "\n",
    "if __name__ == \"__main__\":\n",
    "    main()\n"
   ]
  }
 ],
 "metadata": {
  "kernelspec": {
   "display_name": "Python [conda env:base] *",
   "language": "python",
   "name": "conda-base-py"
  },
  "language_info": {
   "codemirror_mode": {
    "name": "ipython",
    "version": 3
   },
   "file_extension": ".py",
   "mimetype": "text/x-python",
   "name": "python",
   "nbconvert_exporter": "python",
   "pygments_lexer": "ipython3",
   "version": "3.13.5"
  }
 },
 "nbformat": 4,
 "nbformat_minor": 5
}
