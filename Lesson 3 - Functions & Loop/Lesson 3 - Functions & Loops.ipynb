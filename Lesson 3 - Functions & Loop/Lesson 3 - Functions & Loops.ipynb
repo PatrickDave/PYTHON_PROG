{
 "cells": [
  {
   "cell_type": "markdown",
   "id": "ce5efe8d-b15d-4f55-8702-a94f48744b8e",
   "metadata": {},
   "source": [
    "# Review Question #1"
   ]
  },
  {
   "cell_type": "code",
   "execution_count": 4,
   "id": "965c02ce-3af1-48c9-aea8-9f477675da28",
   "metadata": {},
   "outputs": [
    {
     "name": "stdout",
     "output_type": "stream",
     "text": [
      "cube(2) = 8\n",
      "cube(3) = 27\n",
      "cube(-4) = -64\n",
      "cube(1.5) = 3.375\n"
     ]
    }
   ],
   "source": [
    "def cube(number):\n",
    "    return number ** 3\n",
    "\n",
    "print(f\"cube(2) = {cube(2)}\")\n",
    "print(f\"cube(3) = {cube(3)}\")\n",
    "print(f\"cube(-4) = {cube(-4)}\")\n",
    "print(f\"cube(1.5) = {cube(1.5)}\")"
   ]
  },
  {
   "cell_type": "code",
   "execution_count": 6,
   "id": "ea4660ca-5ac9-4d2e-bf0d-c1c73ed36e2c",
   "metadata": {},
   "outputs": [
    {
     "name": "stdout",
     "output_type": "stream",
     "text": [
      "Hello Dave!\n",
      "Hello Gol D. Roger!\n",
      "Hello Rocks D. Xebec!\n",
      "Hello Monkey D. Luffy!\n"
     ]
    }
   ],
   "source": [
    "def greet(name):\n",
    "    print(f\"Hello {name}!\")\n",
    "\n",
    "greet(\"Dave\")\n",
    "greet(\"Gol D. Roger\")\n",
    "greet(\"Rocks D. Xebec\")\n",
    "greet(\"Monkey D. Luffy\")"
   ]
  },
  {
   "cell_type": "markdown",
   "id": "43574da1-b972-485a-85cd-ae3d36a8b4e8",
   "metadata": {},
   "source": [
    "# Challenge: Convert Temperatures"
   ]
  },
  {
   "cell_type": "code",
   "execution_count": 9,
   "id": "0456ad9e-f24e-4048-8ea4-836048760b1f",
   "metadata": {},
   "outputs": [
    {
     "name": "stdin",
     "output_type": "stream",
     "text": [
      "Enter a temperature in degrees F:  72\n"
     ]
    },
    {
     "name": "stdout",
     "output_type": "stream",
     "text": [
      "72.0 degrees F = 22.22 degrees C\n",
      "\n"
     ]
    },
    {
     "name": "stdin",
     "output_type": "stream",
     "text": [
      "Enter a temperature in degrees C:  37\n"
     ]
    },
    {
     "name": "stdout",
     "output_type": "stream",
     "text": [
      "37.0 degrees C = 98.60 degrees F\n"
     ]
    }
   ],
   "source": [
    "def convert_cel_to_far(celsius):\n",
    "    return (celsius * 9/5) + 32\n",
    "\n",
    "def convert_far_to_cel(fahrenheit):\n",
    "    return (fahrenheit - 32) * 5/9\n",
    "\n",
    "# Ask user for Fahrenheit\n",
    "f = float(input(\"Enter a temperature in degrees F: \"))\n",
    "c = convert_far_to_cel(f)\n",
    "print(f\"{f} degrees F = {c:.2f} degrees C\")\n",
    "\n",
    "print()  \n",
    "\n",
    "# Ask for Celsius\n",
    "c = float(input(\"Enter a temperature in degrees C: \"))\n",
    "f = convert_cel_to_far(c)\n",
    "print(f\"{c} degrees C = {f:.2f} degrees F\")\n"
   ]
  },
  {
   "cell_type": "markdown",
   "id": "09836d94-e7c9-48d4-a84c-434fee181812",
   "metadata": {},
   "source": [
    "# Review Question #2\n"
   ]
  },
  {
   "cell_type": "code",
   "execution_count": 10,
   "id": "c66b4a18-54ca-4596-b1ba-c674609d05c7",
   "metadata": {},
   "outputs": [
    {
     "name": "stdout",
     "output_type": "stream",
     "text": [
      "2\n",
      "3\n",
      "4\n",
      "5\n",
      "6\n",
      "7\n",
      "8\n",
      "9\n",
      "10\n"
     ]
    }
   ],
   "source": [
    "#1\n",
    "for i in range(2, 11):\n",
    "    print(i)"
   ]
  },
  {
   "cell_type": "code",
   "execution_count": 11,
   "id": "878f5bb3-c052-42a6-9210-d06f1eedd396",
   "metadata": {},
   "outputs": [
    {
     "name": "stdout",
     "output_type": "stream",
     "text": [
      "2\n",
      "3\n",
      "4\n",
      "5\n",
      "6\n",
      "7\n",
      "8\n",
      "9\n",
      "10\n"
     ]
    }
   ],
   "source": [
    "#2 \n",
    "i = 2\n",
    "while i <= 10:\n",
    "    print(i)\n",
    "    i +=1"
   ]
  },
  {
   "cell_type": "code",
   "execution_count": null,
   "id": "719f939f-c6f2-41d5-93f9-3425da37fc4b",
   "metadata": {},
   "outputs": [],
   "source": [
    "#3 \n",
    "def doubles(number):\n",
    "    return number * 2\n",
    "\n",
    "num = 2\n",
    "for _ in range(3):\n",
    "    num = doubles(num)\n",
    "    print(num)"
   ]
  }
 ],
 "metadata": {
  "kernelspec": {
   "display_name": "Python 3 (ipykernel)",
   "language": "python",
   "name": "python3"
  },
  "language_info": {
   "codemirror_mode": {
    "name": "ipython",
    "version": 3
   },
   "file_extension": ".py",
   "mimetype": "text/x-python",
   "name": "python",
   "nbconvert_exporter": "python",
   "pygments_lexer": "ipython3",
   "version": "3.13.5"
  }
 },
 "nbformat": 4,
 "nbformat_minor": 5
}
