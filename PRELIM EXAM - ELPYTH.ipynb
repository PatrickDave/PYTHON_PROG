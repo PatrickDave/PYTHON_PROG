{
 "cells": [
  {
   "cell_type": "markdown",
   "id": "d1090f64-52f5-45f0-81b5-d8fdfbf3e45f",
   "metadata": {},
   "source": [
    "# 1ST LONG EXAM  |  Date: September 10, 2025"
   ]
  },
  {
   "cell_type": "markdown",
   "id": "ffdd9b9a-f094-413e-901c-0e1c1aa52eaf",
   "metadata": {},
   "source": [
    "# CAGAS, PATRICK DAVE F | ID: 23826514"
   ]
  },
  {
   "cell_type": "code",
   "execution_count": 5,
   "id": "0daae382-8c16-4359-9d6b-632514d873c2",
   "metadata": {},
   "outputs": [
    {
     "name": "stdin",
     "output_type": "stream",
     "text": [
      "Enter your name:  Patrick\n"
     ]
    },
    {
     "name": "stdout",
     "output_type": "stream",
     "text": [
      "Patrick {<bound method Kernel.raw_input of <ipykernel.ipkernel.IPythonKernel object at 0x00000199626B5160>>}\n",
      "Hello! Your name is: Patrick \n"
     ]
    }
   ],
   "source": [
    "#1\n",
    "user_input = input(\"Enter your name: \")\n",
    "print(user_input, {input})\n",
    "print(f\"Hello! Your name is: {user_input} \")"
   ]
  },
  {
   "cell_type": "code",
   "execution_count": 8,
   "id": "bcbbbf87-2ef7-409f-af64-88968bcf768c",
   "metadata": {},
   "outputs": [
    {
     "name": "stdin",
     "output_type": "stream",
     "text": [
      "Enter a number:  2\n"
     ]
    },
    {
     "ename": "TypeError",
     "evalue": "'int' object is not callable",
     "output_type": "error",
     "traceback": [
      "\u001b[1;31m---------------------------------------------------------------------------\u001b[0m",
      "\u001b[1;31mTypeError\u001b[0m                                 Traceback (most recent call last)",
      "Cell \u001b[1;32mIn[8], line 3\u001b[0m\n\u001b[0;32m      1\u001b[0m \u001b[38;5;66;03m#2\u001b[39;00m\n\u001b[0;32m      2\u001b[0m n \u001b[38;5;241m=\u001b[39m \u001b[38;5;28mint\u001b[39m(\u001b[38;5;28minput\u001b[39m(\u001b[38;5;124m\"\u001b[39m\u001b[38;5;124mEnter a number: \u001b[39m\u001b[38;5;124m\"\u001b[39m))\n\u001b[1;32m----> 3\u001b[0m r \u001b[38;5;241m=\u001b[39m n (n \u001b[38;5;241m+\u001b[39m \u001b[38;5;241m1\u001b[39m) \u001b[38;5;241m/\u001b[39m \u001b[38;5;241m2\u001b[39m\n\u001b[0;32m      4\u001b[0m \u001b[38;5;28mprint\u001b[39m \u001b[38;5;241m=\u001b[39m (\u001b[38;5;124mf\u001b[39m\u001b[38;5;124m\"\u001b[39m\u001b[38;5;124mThe sum is: [r3] \u001b[39m\u001b[38;5;124m\"\u001b[39m)\n",
      "\u001b[1;31mTypeError\u001b[0m: 'int' object is not callable"
     ]
    }
   ],
   "source": [
    "#2\n",
    "n = int(input(\"Enter a number: \"))\n",
    "r = n (n + 1) / 2\n",
    "print = (f\"The sum is: [r3] \")"
   ]
  },
  {
   "cell_type": "code",
   "execution_count": 16,
   "id": "19563d69-834e-4991-8579-cfa608f99b3e",
   "metadata": {},
   "outputs": [
    {
     "ename": "SyntaxError",
     "evalue": "expected ':' (2099261510.py, line 4)",
     "output_type": "error",
     "traceback": [
      "\u001b[1;36m  Cell \u001b[1;32mIn[16], line 4\u001b[1;36m\u001b[0m\n\u001b[1;33m    if user_input(\"a\", \"e\", \"i\", \"o\", \"u\", \"y\")\u001b[0m\n\u001b[1;37m                                               ^\u001b[0m\n\u001b[1;31mSyntaxError\u001b[0m\u001b[1;31m:\u001b[0m expected ':'\n"
     ]
    }
   ],
   "source": [
    "#3\n",
    "user_input = input(\"Enter a letter: \")\n",
    "letter = [\"a\", \"e\", \"i\", \"o\", \"u\", \"y\"]\n",
    "if user_input(\"a\", \"e\", \"i\", \"o\", \"u\", \"y\")\n",
    "        print(\"You enter a vowel\")\n",
    "elif user_input(\"Y\")\n",
    "        print(\"Sometimes Y is a vowel, and sometimes Y is a consonant\")\n",
    "else:\n",
    "        print(\"Letter is a consonant\")\n",
    "        \n"
   ]
  },
  {
   "cell_type": "code",
   "execution_count": 19,
   "id": "a1b3135c-a633-4a8f-bc1c-abcf842edd9e",
   "metadata": {},
   "outputs": [],
   "source": [
    "#5\n",
    "def hypotenuse(a,b):\n",
    "    return(a ** 2+b ** 2) ** 0.5\n",
    "    a = float(input(\"Enter first side: \"))\n",
    "    b = float(input(\"Enter second side: \"))\n",
    "    print(\"hypotenuse length = \" , hypotenuse)"
   ]
  },
  {
   "cell_type": "code",
   "execution_count": null,
   "id": "2a9c2a4a-70b4-40ae-9913-b4061b5600b5",
   "metadata": {},
   "outputs": [],
   "source": []
  }
 ],
 "metadata": {
  "kernelspec": {
   "display_name": "Python 3 (ipykernel)",
   "language": "python",
   "name": "python3"
  },
  "language_info": {
   "codemirror_mode": {
    "name": "ipython",
    "version": 3
   },
   "file_extension": ".py",
   "mimetype": "text/x-python",
   "name": "python",
   "nbconvert_exporter": "python",
   "pygments_lexer": "ipython3",
   "version": "3.13.5"
  }
 },
 "nbformat": 4,
 "nbformat_minor": 5
}
