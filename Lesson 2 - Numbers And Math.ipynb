{
 "cells": [
  {
   "cell_type": "code",
   "execution_count": null,
   "id": "79c72d2e-f2b1-4d0d-bdfe-8ed53440b969",
   "metadata": {},
   "outputs": [],
   "source": []
  },
  {
   "cell_type": "markdown",
   "id": "265865fd-e974-49c0-8989-043d8ea63296",
   "metadata": {},
   "source": [
    "# Review Question 1:"
   ]
  },
  {
   "cell_type": "code",
   "execution_count": 2,
   "id": "d8b0abaf-fe4b-4830-9c2d-901f18d9dba0",
   "metadata": {
    "scrolled": true
   },
   "outputs": [
    {
     "name": "stdout",
     "output_type": "stream",
     "text": [
      "25000000\n",
      "25000000\n"
     ]
    }
   ],
   "source": [
    "#1 \n",
    "\n",
    "num1 = 25000000\n",
    "num2 = 25_000_000 #with underscore\n",
    "\n",
    "print(num1)\n",
    "print(num2)"
   ]
  },
  {
   "cell_type": "code",
   "execution_count": 9,
   "id": "f8fa3995-6009-418e-ab7c-fc81fd47bdf7",
   "metadata": {
    "scrolled": true
   },
   "outputs": [
    {
     "name": "stdout",
     "output_type": "stream",
     "text": [
      "175000.0\n"
     ]
    }
   ],
   "source": [
    "#2\n",
    "\n",
    "num = 1.75e5\n",
    "\n",
    "print(num)"
   ]
  },
  {
   "cell_type": "code",
   "execution_count": 8,
   "id": "ede783e4-d77d-40c7-ac76-673eecabd2bf",
   "metadata": {
    "scrolled": true
   },
   "outputs": [
    {
     "name": "stdout",
     "output_type": "stream",
     "text": [
      "Smallest exponent N where 2**N = inf: 1024\n"
     ]
    }
   ],
   "source": [
    "#3\n",
    "\n",
    "N = 1\n",
    "while True:\n",
    "    try:\n",
    "        value = 2.0 ** N\n",
    "        if value == float(\"inf\"):\n",
    "            break\n",
    "        N += 1\n",
    "    except OverflowError:\n",
    "        break\n",
    "\n",
    "print(\"Smallest exponent N where 2**N = inf:\", N)"
   ]
  },
  {
   "cell_type": "markdown",
   "id": "6c0f64df-2057-40ba-95c5-60114dc6d6d7",
   "metadata": {},
   "source": [
    "# Review Question 2:\n"
   ]
  },
  {
   "cell_type": "code",
   "execution_count": 14,
   "id": "9d4a076b-4f15-43d5-b201-55f9515888b6",
   "metadata": {
    "scrolled": true
   },
   "outputs": [
    {
     "name": "stdin",
     "output_type": "stream",
     "text": [
      "Enter the base number:  1.2\n",
      "Enter the exponent:  3\n"
     ]
    },
    {
     "name": "stdout",
     "output_type": "stream",
     "text": [
      "1.2 raised to the power of 3.0 is: 1.7279999999999998\n"
     ]
    }
   ],
   "source": [
    "base = float(input(\"Enter the base number: \"))\n",
    "exponent = float(input(\"Enter the exponent: \"))\n",
    "\n",
    "result = base ** exponent\n",
    "\n",
    "print(f\"{base} raised to the power of {exponent} is: {result}\")"
   ]
  },
  {
   "cell_type": "markdown",
   "id": "c5fd625a-9b22-4e5c-a6ad-314cdede159d",
   "metadata": {},
   "source": [
    "# Review Question 3:\n"
   ]
  },
  {
   "cell_type": "code",
   "execution_count": 21,
   "id": "0a450039-4288-49f7-b062-898c4502dea0",
   "metadata": {
    "scrolled": true
   },
   "outputs": [
    {
     "name": "stdin",
     "output_type": "stream",
     "text": [
      "Enter a number:  5.432\n"
     ]
    },
    {
     "name": "stdout",
     "output_type": "stream",
     "text": [
      "5.432 rounded to 2 decimal places is 5.43\n"
     ]
    }
   ],
   "source": [
    "#1\n",
    "\n",
    "num = float(input(\"Enter a number: \"))\n",
    "\n",
    "rounded_num = round(num, 2)\n",
    "\n",
    "print(f\"{num} rounded to 2 decimal places is {rounded_num}\")"
   ]
  },
  {
   "cell_type": "code",
   "execution_count": 26,
   "id": "fff6c635-0cc4-4346-be08-4b9ddf286f32",
   "metadata": {
    "scrolled": true
   },
   "outputs": [
    {
     "name": "stdin",
     "output_type": "stream",
     "text": [
      "Enter a number:  -10\n"
     ]
    },
    {
     "name": "stdout",
     "output_type": "stream",
     "text": [
      "The absolute value of -10 is 10.0\n"
     ]
    }
   ],
   "source": [
    "#2\n",
    "\n",
    "raw = input(\"Enter a number: \")\n",
    "\n",
    "value = float(raw)\n",
    "\n",
    "print(f\"The absolute value of {raw} is {abs(value)}\")"
   ]
  },
  {
   "cell_type": "markdown",
   "id": "d46af53f-fe42-494c-9238-62fdd7b4fc6b",
   "metadata": {},
   "source": [
    "# Review Question 4:"
   ]
  },
  {
   "cell_type": "code",
   "execution_count": 29,
   "id": "c9e77b6f-a150-43ef-8c17-9c679accd323",
   "metadata": {
    "scrolled": true
   },
   "outputs": [
    {
     "name": "stdin",
     "output_type": "stream",
     "text": [
      "Enter a number:  1.5\n",
      "Enter another number:  1.0\n"
     ]
    },
    {
     "name": "stdout",
     "output_type": "stream",
     "text": [
      "The difference between 1.5 and 1.0 is an integer? False!\n"
     ]
    }
   ],
   "source": [
    "num1 = float(input(\"Enter a number: \"))\n",
    "num2 = float(input(\"Enter another number: \"))\n",
    "\n",
    "difference = num1 - num2\n",
    "\n",
    "is_integer = difference.is_integer()\n",
    "\n",
    "print(f\"The difference between {num1} and {num2} is an integer? {is_integer}!\")"
   ]
  },
  {
   "cell_type": "markdown",
   "id": "9330ec58-4e20-459c-9fca-29184738bedc",
   "metadata": {},
   "source": [
    "# Review Question 5:\n"
   ]
  },
  {
   "cell_type": "code",
   "execution_count": 30,
   "id": "c875d7d6-0fe7-4128-88ec-4a105a0a1c1b",
   "metadata": {
    "scrolled": true
   },
   "outputs": [
    {
     "name": "stdout",
     "output_type": "stream",
     "text": [
      "1.147\n"
     ]
    }
   ],
   "source": [
    "#1\n",
    "\n",
    "result = 3 ** 0.125\n",
    "print(f\"{result:.3f}\")"
   ]
  },
  {
   "cell_type": "code",
   "execution_count": 32,
   "id": "423b7580-2d5d-42bf-9774-2400ecd242c8",
   "metadata": {},
   "outputs": [
    {
     "name": "stdout",
     "output_type": "stream",
     "text": [
      "150,000.00\n"
     ]
    }
   ],
   "source": [
    "#2\n",
    "\n",
    "amount = 150000\n",
    "print(f\"{amount:,.2f}\")"
   ]
  },
  {
   "cell_type": "code",
   "execution_count": 33,
   "id": "adf703ad-b365-429f-8043-05a73b016704",
   "metadata": {
    "scrolled": true
   },
   "outputs": [
    {
     "name": "stdout",
     "output_type": "stream",
     "text": [
      "20%\n"
     ]
    }
   ],
   "source": [
    "#3\n",
    "\n",
    "percent = 2 / 10\n",
    "print(f\"{percent:.0%}\")"
   ]
  }
 ],
 "metadata": {
  "kernelspec": {
   "display_name": "Python 3 (ipykernel)",
   "language": "python",
   "name": "python3"
  },
  "language_info": {
   "codemirror_mode": {
    "name": "ipython",
    "version": 3
   },
   "file_extension": ".py",
   "mimetype": "text/x-python",
   "name": "python",
   "nbconvert_exporter": "python",
   "pygments_lexer": "ipython3",
   "version": "3.13.5"
  }
 },
 "nbformat": 4,
 "nbformat_minor": 5
}
