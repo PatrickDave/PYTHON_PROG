{
 "cells": [
  {
   "cell_type": "code",
   "execution_count": 3,
   "id": "233fd023-d96d-48d7-96e2-4fe700c4cf4a",
   "metadata": {},
   "outputs": [],
   "source": [
    "def area(length: int, width: int) -> int:\n",
    "    return length * width"
   ]
  }
 ],
 "metadata": {
  "kernelspec": {
   "display_name": "Python [conda env:base] *",
   "language": "python",
   "name": "conda-base-py"
  },
  "language_info": {
   "codemirror_mode": {
    "name": "ipython",
    "version": 3
   },
   "file_extension": ".py",
   "mimetype": "text/x-python",
   "name": "python",
   "nbconvert_exporter": "python",
   "pygments_lexer": "ipython3",
   "version": "3.13.5"
  }
 },
 "nbformat": 4,
 "nbformat_minor": 5
}
