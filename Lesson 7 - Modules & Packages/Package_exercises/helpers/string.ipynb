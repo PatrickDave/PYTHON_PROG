{
 "cells": [
  {
   "cell_type": "code",
   "execution_count": 5,
   "id": "d374c752-2da3-44e3-aad0-0ed3b53374b0",
   "metadata": {},
   "outputs": [],
   "source": [
    "def shout(text: str) -> str:\n",
    "    return text.upper()"
   ]
  }
 ],
 "metadata": {
  "kernelspec": {
   "display_name": "Python [conda env:base] *",
   "language": "python",
   "name": "conda-base-py"
  },
  "language_info": {
   "codemirror_mode": {
    "name": "ipython",
    "version": 3
   },
   "file_extension": ".py",
   "mimetype": "text/x-python",
   "name": "python",
   "nbconvert_exporter": "python",
   "pygments_lexer": "ipython3",
   "version": "3.13.5"
  }
 },
 "nbformat": 4,
 "nbformat_minor": 5
}
