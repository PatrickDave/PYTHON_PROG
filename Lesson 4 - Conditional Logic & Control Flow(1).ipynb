{
 "cells": [
  {
   "cell_type": "markdown",
   "id": "75bb4e84-5cd6-4978-b8e1-89f0e7839176",
   "metadata": {},
   "source": [
    "# Review Exercise: 1\n"
   ]
  },
  {
   "cell_type": "code",
   "execution_count": 18,
   "id": "13af4f28-a80d-48bf-8679-54d1ed260b82",
   "metadata": {},
   "outputs": [
    {
     "name": "stdout",
     "output_type": "stream",
     "text": [
      "True\n",
      "False\n",
      "True\n",
      "True\n",
      "True\n",
      "False\n"
     ]
    }
   ],
   "source": [
    "#1\n",
    "print(1 <= 1)\n",
    "print(1 != 1)\n",
    "print(1 != 2)\n",
    "print(\"good\" != \"bad\")\n",
    "print(\"good\" != \"Good\")\n",
    "print(123 == \"123\")\n"
   ]
  },
  {
   "cell_type": "code",
   "execution_count": 27,
   "id": "9e6f8e8d-b96e-495d-85bb-ed4dfcdacd36",
   "metadata": {},
   "outputs": [
    {
     "name": "stdout",
     "output_type": "stream",
     "text": [
      "True\n",
      "True\n",
      "True\n",
      "True\n"
     ]
    }
   ],
   "source": [
    "#2\n",
    "print(3 < 4)\n",
    "print(10 > 5)\n",
    "print(\"jack\" <= \"jill\")\n",
    "print(42 == 42)"
   ]
  },
  {
   "cell_type": "markdown",
   "id": "7b49aa33-220c-44ff-9793-2cf0f2097865",
   "metadata": {},
   "source": [
    "# Review Exercise: 2"
   ]
  },
  {
   "cell_type": "code",
   "execution_count": 13,
   "id": "f16542e7-b20f-4c5f-a05f-c19d183737ed",
   "metadata": {},
   "outputs": [
    {
     "name": "stdout",
     "output_type": "stream",
     "text": [
      "True\n",
      "False\n",
      "True\n",
      "False\n"
     ]
    }
   ],
   "source": [
    "#1\n",
    "print(1 <= 1) and (1 != 2)\n",
    "print(not (1 != 2))\n",
    "print(\"good\" != \"bad\" or False)\n",
    "print(\"good\" != \"Good\" and not (1 == 1))"
   ]
  },
  {
   "cell_type": "code",
   "execution_count": 19,
   "id": "5cd3c07c-3e6c-4acb-9f2b-305cdc4836f2",
   "metadata": {},
   "outputs": [
    {
     "name": "stdout",
     "output_type": "stream",
     "text": [
      "True\n",
      "True\n",
      "False\n"
     ]
    }
   ],
   "source": [
    "#2\n",
    "\n",
    "print(False == (not True))\n",
    "print((True and False) == (True and False))\n",
    "print((not True) and (\"A\" == \"B\"))"
   ]
  },
  {
   "cell_type": "markdown",
   "id": "b722c9ce-ec5a-4023-bb38-7bfe382d81e5",
   "metadata": {},
   "source": [
    "# Review Exercise: 3\n"
   ]
  },
  {
   "cell_type": "code",
   "execution_count": 23,
   "id": "d1a97ef3-f1ca-4179-8a3a-f56ce060c517",
   "metadata": {},
   "outputs": [
    {
     "name": "stdin",
     "output_type": "stream",
     "text": [
      "Enter a word:  Patrick\n"
     ]
    },
    {
     "name": "stdout",
     "output_type": "stream",
     "text": [
      "The word 'Patrick' has more than 5 characters.\n"
     ]
    }
   ],
   "source": [
    "word = input(\"Enter a word: \")\n",
    "\n",
    "if len(word) < 5:\n",
    "    print(f\"The word '{word}' has less than 5 characters.\")\n",
    "elif len(word) > 5:\n",
    "    print(f\"The word '{word}' has more than 5 characters.\")\n",
    "else:\n",
    "    print(f\"The word '{word}' has exactly 5 characters.\")"
   ]
  },
  {
   "cell_type": "markdown",
   "id": "2098d0cc-e85d-46c9-8c4f-269c51a00026",
   "metadata": {},
   "source": [
    "# Review Exercise: 4"
   ]
  },
  {
   "cell_type": "code",
   "execution_count": 31,
   "id": "9b2adc5f-5860-4af5-adaa-c997e169f10c",
   "metadata": {},
   "outputs": [
    {
     "name": "stdin",
     "output_type": "stream",
     "text": [
      "Enter anything (or 'Q' to stop):  A\n",
      "Enter anything (or 'Q' to stop):  B\n",
      "Enter anything (or 'Q' to stop):  C\n",
      "Enter anything (or 'Q' to stop):  D\n",
      "Enter anything (or 'Q' to stop):  Q\n"
     ]
    },
    {
     "name": "stdout",
     "output_type": "stream",
     "text": [
      "Bye Bye\n"
     ]
    }
   ],
   "source": [
    "#1\n",
    "for _ in range(1000000):\n",
    "    user_input = input(\"Enter anything (or 'Q' to stop): \")\n",
    "\n",
    "    if user_input == \"Q\" or user_input == \"q\":\n",
    "        print(\"Bye Bye\")\n",
    "        break"
   ]
  },
  {
   "cell_type": "code",
   "execution_count": 34,
   "id": "ec594d63-0d22-42c9-a5dc-1d4ee4670cd9",
   "metadata": {
    "scrolled": true
   },
   "outputs": [
    {
     "name": "stdout",
     "output_type": "stream",
     "text": [
      "1\n",
      "2\n",
      "4\n",
      "5\n",
      "7\n",
      "8\n",
      "10\n",
      "11\n",
      "13\n",
      "14\n",
      "16\n",
      "17\n",
      "19\n",
      "20\n",
      "22\n",
      "23\n",
      "25\n",
      "26\n",
      "28\n",
      "29\n",
      "31\n",
      "32\n",
      "34\n",
      "35\n",
      "37\n",
      "38\n",
      "40\n",
      "41\n",
      "43\n",
      "44\n",
      "46\n",
      "47\n",
      "49\n"
     ]
    }
   ],
   "source": [
    "#2\n",
    "for n in range(1, 50):\n",
    "    if n % 3 == 0:\n",
    "        continue\n",
    "    print(n)"
   ]
  },
  {
   "cell_type": "markdown",
   "id": "a0179bc7-f96f-4fa9-99b0-40d1ba0329de",
   "metadata": {},
   "source": [
    "# Review Exercise: 5\n"
   ]
  },
  {
   "cell_type": "code",
   "execution_count": 50,
   "id": "a609ec59-8d55-41bc-a6f5-56c57606fd41",
   "metadata": {},
   "outputs": [
    {
     "name": "stdin",
     "output_type": "stream",
     "text": [
      "Enter an integer:  Zekoy Gwapo\n"
     ]
    },
    {
     "name": "stdout",
     "output_type": "stream",
     "text": [
      "That’s not an integer, try again.\n"
     ]
    },
    {
     "name": "stdin",
     "output_type": "stream",
     "text": [
      "Enter an integer:  Zekoy Cute\n"
     ]
    },
    {
     "name": "stdout",
     "output_type": "stream",
     "text": [
      "That’s not an integer, try again.\n"
     ]
    },
    {
     "name": "stdin",
     "output_type": "stream",
     "text": [
      "Enter an integer:  9\n"
     ]
    },
    {
     "name": "stdout",
     "output_type": "stream",
     "text": [
      "An Integer: 9\n"
     ]
    }
   ],
   "source": [
    "#1\n",
    "while True:\n",
    "    try:\n",
    "        num = int(input(\"Enter an integer: \"))\n",
    "        print(f\"An Integer: {num}\")\n",
    "        break  # Exit once integer is entered.\n",
    "    except ValueError:\n",
    "        print(\"That’s not an integer, try again.\")"
   ]
  },
  {
   "cell_type": "code",
   "execution_count": 65,
   "id": "e2bdf19e-d79b-4c49-9b44-3d8247083c39",
   "metadata": {},
   "outputs": [
    {
     "name": "stdin",
     "output_type": "stream",
     "text": [
      "Enter a string:  Zekoy\n",
      "Enter an integer index n:  2\n"
     ]
    },
    {
     "name": "stdout",
     "output_type": "stream",
     "text": [
      "The character at index 2 is 'k'.\n"
     ]
    }
   ],
   "source": [
    "#2\n",
    "user_string = input(\"Enter a string: \")\n",
    "\n",
    "n = int(input(\"Enter an integer index n: \"))\n",
    "if 0 <= n < len(user_string):\n",
    "    print(f\"The character at index {n} is '{user_string[n]}'.\")\n",
    "else:\n",
    "    print(\"Invalid: Index out of range.\")"
   ]
  },
  {
   "cell_type": "markdown",
   "id": "d36b4fda-7a68-4169-b17f-670a66bd8326",
   "metadata": {},
   "source": [
    "# Review Exercise: 6\n"
   ]
  },
  {
   "cell_type": "code",
   "execution_count": 7,
   "id": "13e598e2-20f8-40d8-b446-2e32576950b3",
   "metadata": {},
   "outputs": [
    {
     "name": "stdout",
     "output_type": "stream",
     "text": [
      "2\n"
     ]
    }
   ],
   "source": [
    "#1\n",
    "import random\n",
    "def roll():\n",
    "    \"\"\"Simulate rolling a fair die (1-6).\"\"\"\n",
    "    return random.randint(1, 6)\n",
    "\n",
    "print (roll())"
   ]
  },
  {
   "cell_type": "code",
   "execution_count": 11,
   "id": "de2dfe99-f434-4b82-82fd-4c140b308bee",
   "metadata": {},
   "outputs": [
    {
     "name": "stdout",
     "output_type": "stream",
     "text": [
      "Average number rolled after 10000 rolls: 3.48\n"
     ]
    }
   ],
   "source": [
    "#2\n",
    "import random\n",
    "def roll():\n",
    "    \"\"\"Simulate rolling a fair die (1-6).\"\"\"\n",
    "    return random.randint(1, 6)\n",
    "    \n",
    "total = 0\n",
    "num_rolls = 10000\n",
    "\n",
    "for _ in range(num_rolls):\n",
    "    total += roll()\n",
    "\n",
    "average = total / num_rolls\n",
    "print(f\"Average number rolled after {num_rolls} rolls: {average:.2f}\")"
   ]
  },
  {
   "cell_type": "markdown",
   "id": "0c6db79d-7f34-405c-9028-dff5a268a8d1",
   "metadata": {},
   "source": [
    "# CHALLENGE: SIMULATE AN ELECTION"
   ]
  },
  {
   "cell_type": "code",
   "execution_count": 20,
   "id": "a84bd80f-2938-4431-ba41-542c70519620",
   "metadata": {},
   "outputs": [
    {
     "name": "stdout",
     "output_type": "stream",
     "text": [
      "Candidate A wins\n"
     ]
    }
   ],
   "source": [
    "import random\n",
    "prob_region_1 = 0.87\n",
    "prob_region_2 = 0.65\n",
    "prob_region_3 = 0.17\n",
    "def simulate_election():\n",
    "    wins = 0\n",
    "    # Simulate Region 1\n",
    "    if random.random() < prob_region_1:\n",
    "        wins += 1\n",
    "    # Simulate Region 2\n",
    "    if random.random() < prob_region_2:\n",
    "        wins += 1\n",
    "    # Simulate Region 3\n",
    "    if random.random() < prob_region_3:\n",
    "        wins += 1\n",
    "    if wins >= 2:\n",
    "        return \"Candidate A wins\"\n",
    "    else:\n",
    "        return \"Candidate B wins\"\n",
    "# Run the simulation once\n",
    "result = simulate_election()\n",
    "print(result)"
   ]
  }
 ],
 "metadata": {
  "kernelspec": {
   "display_name": "Python [conda env:base] *",
   "language": "python",
   "name": "conda-base-py"
  },
  "language_info": {
   "codemirror_mode": {
    "name": "ipython",
    "version": 3
   },
   "file_extension": ".py",
   "mimetype": "text/x-python",
   "name": "python",
   "nbconvert_exporter": "python",
   "pygments_lexer": "ipython3",
   "version": "3.13.5"
  }
 },
 "nbformat": 4,
 "nbformat_minor": 5
}
